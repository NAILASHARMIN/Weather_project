{
  "nbformat": 4,
  "nbformat_minor": 0,
  "metadata": {
    "colab": {
      "provenance": [],
      "authorship_tag": "ABX9TyNOGhfuhvWEcJauJPW6ON+n",
      "include_colab_link": true
    },
    "kernelspec": {
      "name": "python3",
      "display_name": "Python 3"
    },
    "language_info": {
      "name": "python"
    }
  },
  "cells": [
    {
      "cell_type": "markdown",
      "metadata": {
        "id": "view-in-github",
        "colab_type": "text"
      },
      "source": [
        "<a href=\"https://colab.research.google.com/github/nsharmin71/Weather_project/blob/main/Weather_Project.ipynb\" target=\"_parent\"><img src=\"https://colab.research.google.com/assets/colab-badge.svg\" alt=\"Open In Colab\"/></a>"
      ]
    },
    {
      "cell_type": "markdown",
      "source": [
        "# New Section"
      ],
      "metadata": {
        "id": "yxI4A2PSOXxb"
      }
    },
    {
      "cell_type": "code",
      "execution_count": 3,
      "metadata": {
        "id": "IBD_dqFOsvCQ"
      },
      "outputs": [],
      "source": [
        "import pandas as pd\n",
        "import numpy as np\n",
        "import matplotlib.pyplot as plt\n",
        "import seaborn as sns\n",
        "sns.set()\n",
        "%config InlineBackend.figue_format = 'retina'\n",
        "import warnings\n",
        "warnings.filterwarnings(\"ignore\")"
      ]
    },
    {
      "cell_type": "code",
      "source": [
        "from scipy import stats\n",
        "from scipy.stats import norm, skew\n",
        "from sklearn.preprocessing import RobustScaler\n",
        "from sklearn.model_selection import train_test_split\n",
        "from sklearn.metrics import classification_report,confusion_matrix,accuracy_score"
      ],
      "metadata": {
        "id": "txwImhukSH1j"
      },
      "execution_count": 4,
      "outputs": []
    },
    {
      "cell_type": "code",
      "source": [
        "#Below code shows all the file in my fiule directory\n",
        "!tar cvfz zipname.tar.gz *"
      ],
      "metadata": {
        "colab": {
          "base_uri": "https://localhost:8080/"
        },
        "id": "9SMiMW8YOsDY",
        "outputId": "9a4cf451-0f74-4c84-953f-f0cbec91a282"
      },
      "execution_count": 91,
      "outputs": [
        {
          "output_type": "stream",
          "name": "stdout",
          "text": [
            "sample_data/\n",
            "sample_data/anscombe.json\n",
            "sample_data/README.md\n",
            "sample_data/mnist_train_small.csv\n",
            "sample_data/mnist_test.csv\n",
            "sample_data/california_housing_test.csv\n",
            "sample_data/california_housing_train.csv\n",
            "weather_corrected_with_date.csv\n",
            "weather_dataset_stage1 copy.xls\n",
            "zipname.tar.gz\n",
            "tar: zipname.tar.gz: file changed as we read it\n"
          ]
        }
      ]
    },
    {
      "cell_type": "code",
      "source": [
        "weather = pd.read_excel(\"weather_dataset_stage1 copy.xls\")\n",
        "# iterating the columns\n",
        "for col in weather.columns:\n",
        "    print(col)"
      ],
      "metadata": {
        "colab": {
          "base_uri": "https://localhost:8080/"
        },
        "id": "HtXyxJwdOtT2",
        "outputId": "de09026f-cef6-4928-c607-e9654aae3a7e"
      },
      "execution_count": 24,
      "outputs": [
        {
          "output_type": "stream",
          "name": "stdout",
          "text": [
            "Date\n",
            " Temperature\n",
            " Average humidity (%\n",
            " Average dewpoint (°F\n",
            " Average barometer (in\n",
            " Average windspeed (mph\n",
            " Average gustspeed (mph\n",
            " Average direction (°deg\n",
            " Rainfall for month (in\n",
            "Rainfall for year (in\n",
            " Maximum rain per minute\n",
            " Maximum temperature (°F\n",
            " Minimum temperature (°F\n",
            " Maximum humidity (%\n",
            " Minimum humidity (%\n",
            " Maximum pressure\n",
            " Minimum pressure\n",
            " Maximum windspeed (mph\n",
            " Maximum gust speed (mph\n",
            " Maximum heat index (°F\n",
            "Date1\n",
            " Month\n",
            " diff_pressure\n"
          ]
        }
      ]
    },
    {
      "cell_type": "code",
      "source": [
        "weather"
      ],
      "metadata": {
        "colab": {
          "base_uri": "https://localhost:8080/",
          "height": 870
        },
        "id": "YcCVY8DgQb15",
        "outputId": "0a8c8d41-1c5b-492c-88d0-cad316e855bf"
      },
      "execution_count": 25,
      "outputs": [
        {
          "output_type": "execute_result",
          "data": {
            "text/plain": [
              "             Date  Temperature  Average humidity (%  Average dewpoint (°F  \\\n",
              "0      2022-01-01       '37.8'               '35.0'                '12.7'   \n",
              "1     2022-01-02'       '43.2'               '32.0'                '14.7'   \n",
              "2     2022-01-03'       '25.7'               '60.0'                '12.7'   \n",
              "3     2022-01-04'        '9.3'               '67.0'                 '0.1'   \n",
              "4     2022-01-05'       '23.5'               '30.0'                '-5.3'   \n",
              "...           ...          ...                  ...                   ...   \n",
              "3898  2022-07-25'       '62.8'               '60.0'                '48.1'   \n",
              "3899  2022-07-26'       '60.6'               '68.0'                '48.9'   \n",
              "3900  2022-07-27'       '61.7'               '64.0'                '47.4'   \n",
              "3901  2022-07-28'       '60.5'               '61.0'                '45.3'   \n",
              "3902  2022-07-28'       '60.5'               '61.0'                '45.3'   \n",
              "\n",
              "      Average barometer (in  Average windspeed (mph  Average gustspeed (mph  \\\n",
              "0                    '29.7'                  '26.4'                  '36.8'   \n",
              "1                    '29.5'                  '12.8'                  '18.0'   \n",
              "2                    '29.7'                   '8.3'                  '12.2'   \n",
              "3                    '30.4'                   '2.9'                   '4.5'   \n",
              "4                    '29.9'                  '16.7'                  '23.1'   \n",
              "...                     ...                     ...                     ...   \n",
              "3898                 '29.7'                   '2.5'                   '4.0'   \n",
              "3899                 '29.8'                   '1.7'                   '2.9'   \n",
              "3900                 '29.9'                   '2.2'                   '4.0'   \n",
              "3901                 '29.7'                   '4.0'                   '6.2'   \n",
              "3902                 '29.7'                   '4.0'                   '6.2'   \n",
              "\n",
              "      Average direction (°deg  Rainfall for month (in Rainfall for year (in  \\\n",
              "0                     '274.0'                   '0.0'                 '0.0'   \n",
              "1                     '240.0'                   '0.0'                 '0.0'   \n",
              "2                     '290.0'                   '0.0'                 '0.0'   \n",
              "3                      '47.0'                   '0.0'                 '0.0'   \n",
              "4                     '265.0'                   '0.0'                 '0.0'   \n",
              "...                       ...                     ...                   ...   \n",
              "3898                  '242.0'                  '0.33'                '4.47'   \n",
              "3899                  '357.0'                  '0.33'                '4.47'   \n",
              "3900                   '66.0'                  '0.33'                '4.47'   \n",
              "3901                  '248.0'                  '0.35'                '4.49'   \n",
              "3902                  '248.0'                  '0.35'                '4.49'   \n",
              "\n",
              "      ...  Maximum humidity (%  Minimum humidity (%  Maximum pressure  \\\n",
              "0     ...                '4.0'               '27.0'          '29.762'   \n",
              "1     ...                '4.0'               '16.0'          '29.669'   \n",
              "2     ...                '8.0'               '35.0'          '30.232'   \n",
              "3     ...                '7.0'               '35.0'          '30.566'   \n",
              "4     ...                '5.0'               '13.0'          '30.233'   \n",
              "...   ...                  ...                  ...               ...   \n",
              "3898  ...               '90.0'               '36.0'          '29.781'   \n",
              "3899  ...               '90.0'               '40.0'           '29.93'   \n",
              "3900  ...               '96.0'               '35.0'          '29.941'   \n",
              "3901  ...               '94.0'               '35.0'          '29.792'   \n",
              "3902  ...               '94.0'               '35.0'          '29.792'   \n",
              "\n",
              "      Minimum pressure  Maximum windspeed (mph  Maximum gust speed (mph  \\\n",
              "0             '29.596'                  '41.4'                   '59.0'   \n",
              "1             '29.268'                  '35.7'                   '51.0'   \n",
              "2              '29.26'                  '25.3'                   '38.0'   \n",
              "3             '30.227'                  '12.7'                   '20.0'   \n",
              "4             '29.568'                  '38.0'                   '53.0'   \n",
              "...                ...                     ...                      ...   \n",
              "3898          '29.645'                   '8.1'                   '17.3'   \n",
              "3899          '29.745'                  '11.5'                   '15.0'   \n",
              "3900          '29.781'                  '13.8'                   '18.4'   \n",
              "3901          '29.675'                  '17.3'                   '26.5'   \n",
              "3902          '29.675'                  '17.3'                   '26.5'   \n",
              "\n",
              "      Maximum heat index (°F         Date1  Month           diff_pressure  \n",
              "0                     '40.0'  '2022-01-01'   '01'   '0.16600000000000037'  \n",
              "1                     '52.0'  '2022-01-02'   '01'    '0.4009999999999998'  \n",
              "2                     '41.0'  '2022-01-03'   '01'    '0.9719999999999978'  \n",
              "3                     '32.0'  '2022-01-04'   '01'   '0.33899999999999864'  \n",
              "4                     '32.0'  '2022-01-05'   '01'    '0.6649999999999991'  \n",
              "...                      ...           ...    ...                     ...  \n",
              "3898                  '77.5'  '2022-07-25'   '07'   '0.13599999999999923'  \n",
              "3899                  '77.5'  '2022-07-26'   '07'   '0.18499999999999872'  \n",
              "3900                  '78.2'  '2022-07-27'   '07'   '0.16000000000000014'  \n",
              "3901                  '77.6'  '2022-07-28'   '07'  '0.11700000000000088';  \n",
              "3902                  '77.6'  '2022-07-28'   '07'  '0.11700000000000088';  \n",
              "\n",
              "[3903 rows x 23 columns]"
            ],
            "text/html": [
              "\n",
              "  <div id=\"df-051dad02-8126-477a-a84a-84e0f1fb3dce\">\n",
              "    <div class=\"colab-df-container\">\n",
              "      <div>\n",
              "<style scoped>\n",
              "    .dataframe tbody tr th:only-of-type {\n",
              "        vertical-align: middle;\n",
              "    }\n",
              "\n",
              "    .dataframe tbody tr th {\n",
              "        vertical-align: top;\n",
              "    }\n",
              "\n",
              "    .dataframe thead th {\n",
              "        text-align: right;\n",
              "    }\n",
              "</style>\n",
              "<table border=\"1\" class=\"dataframe\">\n",
              "  <thead>\n",
              "    <tr style=\"text-align: right;\">\n",
              "      <th></th>\n",
              "      <th>Date</th>\n",
              "      <th>Temperature</th>\n",
              "      <th>Average humidity (%</th>\n",
              "      <th>Average dewpoint (°F</th>\n",
              "      <th>Average barometer (in</th>\n",
              "      <th>Average windspeed (mph</th>\n",
              "      <th>Average gustspeed (mph</th>\n",
              "      <th>Average direction (°deg</th>\n",
              "      <th>Rainfall for month (in</th>\n",
              "      <th>Rainfall for year (in</th>\n",
              "      <th>...</th>\n",
              "      <th>Maximum humidity (%</th>\n",
              "      <th>Minimum humidity (%</th>\n",
              "      <th>Maximum pressure</th>\n",
              "      <th>Minimum pressure</th>\n",
              "      <th>Maximum windspeed (mph</th>\n",
              "      <th>Maximum gust speed (mph</th>\n",
              "      <th>Maximum heat index (°F</th>\n",
              "      <th>Date1</th>\n",
              "      <th>Month</th>\n",
              "      <th>diff_pressure</th>\n",
              "    </tr>\n",
              "  </thead>\n",
              "  <tbody>\n",
              "    <tr>\n",
              "      <th>0</th>\n",
              "      <td>2022-01-01</td>\n",
              "      <td>'37.8'</td>\n",
              "      <td>'35.0'</td>\n",
              "      <td>'12.7'</td>\n",
              "      <td>'29.7'</td>\n",
              "      <td>'26.4'</td>\n",
              "      <td>'36.8'</td>\n",
              "      <td>'274.0'</td>\n",
              "      <td>'0.0'</td>\n",
              "      <td>'0.0'</td>\n",
              "      <td>...</td>\n",
              "      <td>'4.0'</td>\n",
              "      <td>'27.0'</td>\n",
              "      <td>'29.762'</td>\n",
              "      <td>'29.596'</td>\n",
              "      <td>'41.4'</td>\n",
              "      <td>'59.0'</td>\n",
              "      <td>'40.0'</td>\n",
              "      <td>'2022-01-01'</td>\n",
              "      <td>'01'</td>\n",
              "      <td>'0.16600000000000037'</td>\n",
              "    </tr>\n",
              "    <tr>\n",
              "      <th>1</th>\n",
              "      <td>2022-01-02'</td>\n",
              "      <td>'43.2'</td>\n",
              "      <td>'32.0'</td>\n",
              "      <td>'14.7'</td>\n",
              "      <td>'29.5'</td>\n",
              "      <td>'12.8'</td>\n",
              "      <td>'18.0'</td>\n",
              "      <td>'240.0'</td>\n",
              "      <td>'0.0'</td>\n",
              "      <td>'0.0'</td>\n",
              "      <td>...</td>\n",
              "      <td>'4.0'</td>\n",
              "      <td>'16.0'</td>\n",
              "      <td>'29.669'</td>\n",
              "      <td>'29.268'</td>\n",
              "      <td>'35.7'</td>\n",
              "      <td>'51.0'</td>\n",
              "      <td>'52.0'</td>\n",
              "      <td>'2022-01-02'</td>\n",
              "      <td>'01'</td>\n",
              "      <td>'0.4009999999999998'</td>\n",
              "    </tr>\n",
              "    <tr>\n",
              "      <th>2</th>\n",
              "      <td>2022-01-03'</td>\n",
              "      <td>'25.7'</td>\n",
              "      <td>'60.0'</td>\n",
              "      <td>'12.7'</td>\n",
              "      <td>'29.7'</td>\n",
              "      <td>'8.3'</td>\n",
              "      <td>'12.2'</td>\n",
              "      <td>'290.0'</td>\n",
              "      <td>'0.0'</td>\n",
              "      <td>'0.0'</td>\n",
              "      <td>...</td>\n",
              "      <td>'8.0'</td>\n",
              "      <td>'35.0'</td>\n",
              "      <td>'30.232'</td>\n",
              "      <td>'29.26'</td>\n",
              "      <td>'25.3'</td>\n",
              "      <td>'38.0'</td>\n",
              "      <td>'41.0'</td>\n",
              "      <td>'2022-01-03'</td>\n",
              "      <td>'01'</td>\n",
              "      <td>'0.9719999999999978'</td>\n",
              "    </tr>\n",
              "    <tr>\n",
              "      <th>3</th>\n",
              "      <td>2022-01-04'</td>\n",
              "      <td>'9.3'</td>\n",
              "      <td>'67.0'</td>\n",
              "      <td>'0.1'</td>\n",
              "      <td>'30.4'</td>\n",
              "      <td>'2.9'</td>\n",
              "      <td>'4.5'</td>\n",
              "      <td>'47.0'</td>\n",
              "      <td>'0.0'</td>\n",
              "      <td>'0.0'</td>\n",
              "      <td>...</td>\n",
              "      <td>'7.0'</td>\n",
              "      <td>'35.0'</td>\n",
              "      <td>'30.566'</td>\n",
              "      <td>'30.227'</td>\n",
              "      <td>'12.7'</td>\n",
              "      <td>'20.0'</td>\n",
              "      <td>'32.0'</td>\n",
              "      <td>'2022-01-04'</td>\n",
              "      <td>'01'</td>\n",
              "      <td>'0.33899999999999864'</td>\n",
              "    </tr>\n",
              "    <tr>\n",
              "      <th>4</th>\n",
              "      <td>2022-01-05'</td>\n",
              "      <td>'23.5'</td>\n",
              "      <td>'30.0'</td>\n",
              "      <td>'-5.3'</td>\n",
              "      <td>'29.9'</td>\n",
              "      <td>'16.7'</td>\n",
              "      <td>'23.1'</td>\n",
              "      <td>'265.0'</td>\n",
              "      <td>'0.0'</td>\n",
              "      <td>'0.0'</td>\n",
              "      <td>...</td>\n",
              "      <td>'5.0'</td>\n",
              "      <td>'13.0'</td>\n",
              "      <td>'30.233'</td>\n",
              "      <td>'29.568'</td>\n",
              "      <td>'38.0'</td>\n",
              "      <td>'53.0'</td>\n",
              "      <td>'32.0'</td>\n",
              "      <td>'2022-01-05'</td>\n",
              "      <td>'01'</td>\n",
              "      <td>'0.6649999999999991'</td>\n",
              "    </tr>\n",
              "    <tr>\n",
              "      <th>...</th>\n",
              "      <td>...</td>\n",
              "      <td>...</td>\n",
              "      <td>...</td>\n",
              "      <td>...</td>\n",
              "      <td>...</td>\n",
              "      <td>...</td>\n",
              "      <td>...</td>\n",
              "      <td>...</td>\n",
              "      <td>...</td>\n",
              "      <td>...</td>\n",
              "      <td>...</td>\n",
              "      <td>...</td>\n",
              "      <td>...</td>\n",
              "      <td>...</td>\n",
              "      <td>...</td>\n",
              "      <td>...</td>\n",
              "      <td>...</td>\n",
              "      <td>...</td>\n",
              "      <td>...</td>\n",
              "      <td>...</td>\n",
              "      <td>...</td>\n",
              "    </tr>\n",
              "    <tr>\n",
              "      <th>3898</th>\n",
              "      <td>2022-07-25'</td>\n",
              "      <td>'62.8'</td>\n",
              "      <td>'60.0'</td>\n",
              "      <td>'48.1'</td>\n",
              "      <td>'29.7'</td>\n",
              "      <td>'2.5'</td>\n",
              "      <td>'4.0'</td>\n",
              "      <td>'242.0'</td>\n",
              "      <td>'0.33'</td>\n",
              "      <td>'4.47'</td>\n",
              "      <td>...</td>\n",
              "      <td>'90.0'</td>\n",
              "      <td>'36.0'</td>\n",
              "      <td>'29.781'</td>\n",
              "      <td>'29.645'</td>\n",
              "      <td>'8.1'</td>\n",
              "      <td>'17.3'</td>\n",
              "      <td>'77.5'</td>\n",
              "      <td>'2022-07-25'</td>\n",
              "      <td>'07'</td>\n",
              "      <td>'0.13599999999999923'</td>\n",
              "    </tr>\n",
              "    <tr>\n",
              "      <th>3899</th>\n",
              "      <td>2022-07-26'</td>\n",
              "      <td>'60.6'</td>\n",
              "      <td>'68.0'</td>\n",
              "      <td>'48.9'</td>\n",
              "      <td>'29.8'</td>\n",
              "      <td>'1.7'</td>\n",
              "      <td>'2.9'</td>\n",
              "      <td>'357.0'</td>\n",
              "      <td>'0.33'</td>\n",
              "      <td>'4.47'</td>\n",
              "      <td>...</td>\n",
              "      <td>'90.0'</td>\n",
              "      <td>'40.0'</td>\n",
              "      <td>'29.93'</td>\n",
              "      <td>'29.745'</td>\n",
              "      <td>'11.5'</td>\n",
              "      <td>'15.0'</td>\n",
              "      <td>'77.5'</td>\n",
              "      <td>'2022-07-26'</td>\n",
              "      <td>'07'</td>\n",
              "      <td>'0.18499999999999872'</td>\n",
              "    </tr>\n",
              "    <tr>\n",
              "      <th>3900</th>\n",
              "      <td>2022-07-27'</td>\n",
              "      <td>'61.7'</td>\n",
              "      <td>'64.0'</td>\n",
              "      <td>'47.4'</td>\n",
              "      <td>'29.9'</td>\n",
              "      <td>'2.2'</td>\n",
              "      <td>'4.0'</td>\n",
              "      <td>'66.0'</td>\n",
              "      <td>'0.33'</td>\n",
              "      <td>'4.47'</td>\n",
              "      <td>...</td>\n",
              "      <td>'96.0'</td>\n",
              "      <td>'35.0'</td>\n",
              "      <td>'29.941'</td>\n",
              "      <td>'29.781'</td>\n",
              "      <td>'13.8'</td>\n",
              "      <td>'18.4'</td>\n",
              "      <td>'78.2'</td>\n",
              "      <td>'2022-07-27'</td>\n",
              "      <td>'07'</td>\n",
              "      <td>'0.16000000000000014'</td>\n",
              "    </tr>\n",
              "    <tr>\n",
              "      <th>3901</th>\n",
              "      <td>2022-07-28'</td>\n",
              "      <td>'60.5'</td>\n",
              "      <td>'61.0'</td>\n",
              "      <td>'45.3'</td>\n",
              "      <td>'29.7'</td>\n",
              "      <td>'4.0'</td>\n",
              "      <td>'6.2'</td>\n",
              "      <td>'248.0'</td>\n",
              "      <td>'0.35'</td>\n",
              "      <td>'4.49'</td>\n",
              "      <td>...</td>\n",
              "      <td>'94.0'</td>\n",
              "      <td>'35.0'</td>\n",
              "      <td>'29.792'</td>\n",
              "      <td>'29.675'</td>\n",
              "      <td>'17.3'</td>\n",
              "      <td>'26.5'</td>\n",
              "      <td>'77.6'</td>\n",
              "      <td>'2022-07-28'</td>\n",
              "      <td>'07'</td>\n",
              "      <td>'0.11700000000000088';</td>\n",
              "    </tr>\n",
              "    <tr>\n",
              "      <th>3902</th>\n",
              "      <td>2022-07-28'</td>\n",
              "      <td>'60.5'</td>\n",
              "      <td>'61.0'</td>\n",
              "      <td>'45.3'</td>\n",
              "      <td>'29.7'</td>\n",
              "      <td>'4.0'</td>\n",
              "      <td>'6.2'</td>\n",
              "      <td>'248.0'</td>\n",
              "      <td>'0.35'</td>\n",
              "      <td>'4.49'</td>\n",
              "      <td>...</td>\n",
              "      <td>'94.0'</td>\n",
              "      <td>'35.0'</td>\n",
              "      <td>'29.792'</td>\n",
              "      <td>'29.675'</td>\n",
              "      <td>'17.3'</td>\n",
              "      <td>'26.5'</td>\n",
              "      <td>'77.6'</td>\n",
              "      <td>'2022-07-28'</td>\n",
              "      <td>'07'</td>\n",
              "      <td>'0.11700000000000088';</td>\n",
              "    </tr>\n",
              "  </tbody>\n",
              "</table>\n",
              "<p>3903 rows × 23 columns</p>\n",
              "</div>\n",
              "      <button class=\"colab-df-convert\" onclick=\"convertToInteractive('df-051dad02-8126-477a-a84a-84e0f1fb3dce')\"\n",
              "              title=\"Convert this dataframe to an interactive table.\"\n",
              "              style=\"display:none;\">\n",
              "        \n",
              "  <svg xmlns=\"http://www.w3.org/2000/svg\" height=\"24px\"viewBox=\"0 0 24 24\"\n",
              "       width=\"24px\">\n",
              "    <path d=\"M0 0h24v24H0V0z\" fill=\"none\"/>\n",
              "    <path d=\"M18.56 5.44l.94 2.06.94-2.06 2.06-.94-2.06-.94-.94-2.06-.94 2.06-2.06.94zm-11 1L8.5 8.5l.94-2.06 2.06-.94-2.06-.94L8.5 2.5l-.94 2.06-2.06.94zm10 10l.94 2.06.94-2.06 2.06-.94-2.06-.94-.94-2.06-.94 2.06-2.06.94z\"/><path d=\"M17.41 7.96l-1.37-1.37c-.4-.4-.92-.59-1.43-.59-.52 0-1.04.2-1.43.59L10.3 9.45l-7.72 7.72c-.78.78-.78 2.05 0 2.83L4 21.41c.39.39.9.59 1.41.59.51 0 1.02-.2 1.41-.59l7.78-7.78 2.81-2.81c.8-.78.8-2.07 0-2.86zM5.41 20L4 18.59l7.72-7.72 1.47 1.35L5.41 20z\"/>\n",
              "  </svg>\n",
              "      </button>\n",
              "      \n",
              "  <style>\n",
              "    .colab-df-container {\n",
              "      display:flex;\n",
              "      flex-wrap:wrap;\n",
              "      gap: 12px;\n",
              "    }\n",
              "\n",
              "    .colab-df-convert {\n",
              "      background-color: #E8F0FE;\n",
              "      border: none;\n",
              "      border-radius: 50%;\n",
              "      cursor: pointer;\n",
              "      display: none;\n",
              "      fill: #1967D2;\n",
              "      height: 32px;\n",
              "      padding: 0 0 0 0;\n",
              "      width: 32px;\n",
              "    }\n",
              "\n",
              "    .colab-df-convert:hover {\n",
              "      background-color: #E2EBFA;\n",
              "      box-shadow: 0px 1px 2px rgba(60, 64, 67, 0.3), 0px 1px 3px 1px rgba(60, 64, 67, 0.15);\n",
              "      fill: #174EA6;\n",
              "    }\n",
              "\n",
              "    [theme=dark] .colab-df-convert {\n",
              "      background-color: #3B4455;\n",
              "      fill: #D2E3FC;\n",
              "    }\n",
              "\n",
              "    [theme=dark] .colab-df-convert:hover {\n",
              "      background-color: #434B5C;\n",
              "      box-shadow: 0px 1px 3px 1px rgba(0, 0, 0, 0.15);\n",
              "      filter: drop-shadow(0px 1px 2px rgba(0, 0, 0, 0.3));\n",
              "      fill: #FFFFFF;\n",
              "    }\n",
              "  </style>\n",
              "\n",
              "      <script>\n",
              "        const buttonEl =\n",
              "          document.querySelector('#df-051dad02-8126-477a-a84a-84e0f1fb3dce button.colab-df-convert');\n",
              "        buttonEl.style.display =\n",
              "          google.colab.kernel.accessAllowed ? 'block' : 'none';\n",
              "\n",
              "        async function convertToInteractive(key) {\n",
              "          const element = document.querySelector('#df-051dad02-8126-477a-a84a-84e0f1fb3dce');\n",
              "          const dataTable =\n",
              "            await google.colab.kernel.invokeFunction('convertToInteractive',\n",
              "                                                     [key], {});\n",
              "          if (!dataTable) return;\n",
              "\n",
              "          const docLinkHtml = 'Like what you see? Visit the ' +\n",
              "            '<a target=\"_blank\" href=https://colab.research.google.com/notebooks/data_table.ipynb>data table notebook</a>'\n",
              "            + ' to learn more about interactive tables.';\n",
              "          element.innerHTML = '';\n",
              "          dataTable['output_type'] = 'display_data';\n",
              "          await google.colab.output.renderOutput(dataTable, element);\n",
              "          const docLink = document.createElement('div');\n",
              "          docLink.innerHTML = docLinkHtml;\n",
              "          element.appendChild(docLink);\n",
              "        }\n",
              "      </script>\n",
              "    </div>\n",
              "  </div>\n",
              "  "
            ]
          },
          "metadata": {},
          "execution_count": 25
        }
      ]
    },
    {
      "cell_type": "code",
      "source": [
        "\n",
        "# Split Date on \"'\"\n",
        "weather[['Date-split-0-3ai4', 'Date-split-1-3ai4']] = weather['Date'].str.split(\"'\", n=-1, expand=True)\n",
        "weather = weather[weather.columns[:1].tolist() + ['Date-split-0-3ai4', 'Date-split-1-3ai4'] + weather.columns[1:-2].tolist()]\n"
      ],
      "metadata": {
        "id": "hRoP8DpJPTU2"
      },
      "execution_count": 26,
      "outputs": []
    },
    {
      "cell_type": "code",
      "source": [
        "# Deleted columns Date\n",
        "weather.drop(['Date'], axis=1, inplace=True)"
      ],
      "metadata": {
        "id": "tgAA4u21PPjz"
      },
      "execution_count": 27,
      "outputs": []
    },
    {
      "cell_type": "code",
      "source": [
        "# Deleted columns Date-split-1-3ai4\n",
        "weather.drop(['Date-split-1-3ai4'], axis=1, inplace=True)"
      ],
      "metadata": {
        "id": "SdEzTlFPYBWY"
      },
      "execution_count": 28,
      "outputs": []
    },
    {
      "cell_type": "code",
      "source": [
        "# Renamed columns date\n",
        "weather.rename(columns={'Date-split-0-3ai4': 'date'}, inplace=True)"
      ],
      "metadata": {
        "id": "jO3eoi2wYBYp"
      },
      "execution_count": 29,
      "outputs": []
    },
    {
      "cell_type": "code",
      "source": [
        "# Split  Temperature on \"'\"\n",
        "weather[[' Temperature-split-0-f4as', ' Temperature-split-1-f4as', ' Temperature-split-2-f4as']] = weather[' Temperature'].str.split(\"'\", n=-1, expand=True)\n",
        "weather = weather[weather.columns[:1].tolist() + [' Temperature-split-0-f4as', ' Temperature-split-1-f4as', ' Temperature-split-2-f4as'] + weather.columns[1:-3].tolist()]\n"
      ],
      "metadata": {
        "id": "6k9SmwLSYBbp"
      },
      "execution_count": 30,
      "outputs": []
    },
    {
      "cell_type": "code",
      "source": [
        "# Deleted columns  Temperature\n",
        "weather.drop([' Temperature'], axis=1, inplace=True)"
      ],
      "metadata": {
        "id": "Wpk4U1nsYBdz"
      },
      "execution_count": 31,
      "outputs": []
    },
    {
      "cell_type": "code",
      "source": [
        "# Deleted columns  Temperature-split-0-f4as\n",
        "weather.drop([' Temperature-split-0-f4as'], axis=1, inplace=True)"
      ],
      "metadata": {
        "id": "wRQsf2SMYBjc"
      },
      "execution_count": 32,
      "outputs": []
    },
    {
      "cell_type": "code",
      "source": [
        "# Deleted columns  Temperature-split-2-f4as\n",
        "weather.drop([' Temperature-split-2-f4as'], axis=1, inplace=True)"
      ],
      "metadata": {
        "id": "tygE-2O-YBlx"
      },
      "execution_count": 33,
      "outputs": []
    },
    {
      "cell_type": "code",
      "source": [
        "# Renamed columns temperature\n",
        "weather.rename(columns={' Temperature-split-1-f4as': 'temperature'}, inplace=True)"
      ],
      "metadata": {
        "id": "Xr9FcQ--YCJE"
      },
      "execution_count": 34,
      "outputs": []
    },
    {
      "cell_type": "code",
      "source": [
        "# Split  Average humidity (% on \"'\"\n",
        "weather[[' Average humidity (%-split-0-wssf', ' Average humidity (%-split-1-wssf', ' Average humidity (%-split-2-wssf']] = weather[' Average humidity (%'].str.split(\"'\", n=-1, expand=True)\n",
        "weather = weather[weather.columns[:1].tolist() + [' Average humidity (%-split-0-wssf', ' Average humidity (%-split-1-wssf', ' Average humidity (%-split-2-wssf'] + weather.columns[1:-3].tolist()]"
      ],
      "metadata": {
        "id": "Y-saWzEOYCLu"
      },
      "execution_count": 35,
      "outputs": []
    },
    {
      "cell_type": "code",
      "source": [
        "# Deleted columns  Average humidity (%\n",
        "weather.drop([' Average humidity (%'], axis=1, inplace=True)\n",
        "\n",
        "# Deleted columns  Average humidity (%-split-0-wssf\n",
        "weather.drop([' Average humidity (%-split-0-wssf'], axis=1, inplace=True)\n",
        "\n",
        "# Deleted columns  Average humidity (%-split-2-wssf\n",
        "weather.drop([' Average humidity (%-split-2-wssf'], axis=1, inplace=True)"
      ],
      "metadata": {
        "id": "HkRR01mfYCPk"
      },
      "execution_count": 36,
      "outputs": []
    },
    {
      "cell_type": "code",
      "source": [
        "\n",
        "# Renamed columns avg_humidity_pct\n",
        "weather.rename(columns={' Average humidity (%-split-1-wssf': 'avg_humidity_pct'}, inplace=True)\n",
        "\n",
        "# Split  Average dewpoint (°F on \",\", \"'\"\n",
        "weather[[' Average dewpoint (°F-split-0-4oq3', ' Average dewpoint (°F-split-1-4oq3', ' Average dewpoint (°F-split-2-4oq3']] = weather[' Average dewpoint (°F'].str.split(\",|'\", n=-1, expand=True)\n",
        "weather = weather[weather.columns[:1].tolist() + [' Average dewpoint (°F-split-0-4oq3', ' Average dewpoint (°F-split-1-4oq3', ' Average dewpoint (°F-split-2-4oq3'] + weather.columns[1:-3].tolist()]\n"
      ],
      "metadata": {
        "id": "IblNkh8eYmE-"
      },
      "execution_count": 38,
      "outputs": []
    },
    {
      "cell_type": "code",
      "source": [
        "#Renamed columns avg_humidity_pct\n",
        "weather.rename(columns={' Average humidity (%-split-1-wssf': 'avg_humidity_pct'}, inplace=True)"
      ],
      "metadata": {
        "id": "esiqUpkdZ2Wu"
      },
      "execution_count": 46,
      "outputs": []
    },
    {
      "cell_type": "code",
      "source": [
        "# Changed  Average humidity (%-split-1-wssf to dtype float\n",
        "weather['avg_humidity_pct'] = weather['avg_humidity_pct'].astype(float)\n"
      ],
      "metadata": {
        "id": "3-ZvrwQnYmKZ"
      },
      "execution_count": 47,
      "outputs": []
    },
    {
      "cell_type": "code",
      "source": [
        "\n",
        "# Split  Average barometer (in on \"'\"\n",
        "weather[[' Average barometer (in-split-0-vbfv', ' Average barometer (in-split-1-vbfv', ' Average barometer (in-split-2-vbfv']] = weather[' Average barometer (in'].str.split(\"'\", n=-1, expand=True)\n",
        "weather = weather[weather.columns[:2].tolist() + [' Average barometer (in-split-0-vbfv', ' Average barometer (in-split-1-vbfv', ' Average barometer (in-split-2-vbfv'] + weather.columns[2:-3].tolist()]\n",
        "\n",
        "# Split  Average windspeed (mph on \"'\"\n",
        "weather[[' Average windspeed (mph-split-0-usb6', ' Average windspeed (mph-split-1-usb6', ' Average windspeed (mph-split-2-usb6']] = weather[' Average windspeed (mph'].str.split(\"'\", n=-1, expand=True)\n",
        "weather = weather[weather.columns[:3].tolist() + [' Average windspeed (mph-split-0-usb6', ' Average windspeed (mph-split-1-usb6', ' Average windspeed (mph-split-2-usb6'] + weather.columns[3:-3].tolist()]\n",
        "\n",
        "# Split  Average gustspeed (mph on \"'\"\n",
        "weather[[' Average gustspeed (mph-split-0-gzlq', ' Average gustspeed (mph-split-1-gzlq', ' Average gustspeed (mph-split-2-gzlq']] = weather[' Average gustspeed (mph'].str.split(\"'\", n=-1, expand=True)\n",
        "weather = weather[weather.columns[:4].tolist() + [' Average gustspeed (mph-split-0-gzlq', ' Average gustspeed (mph-split-1-gzlq', ' Average gustspeed (mph-split-2-gzlq'] + weather.columns[4:-3].tolist()]\n",
        "\n",
        "# Split  Average direction (°deg on \"'\"\n",
        "weather[[' Average direction (°deg-split-0-m1gp', ' Average direction (°deg-split-1-m1gp', ' Average direction (°deg-split-2-m1gp']] = weather[' Average direction (°deg'].str.split(\"'\", n=-1, expand=True)\n",
        "weather = weather[weather.columns[:5].tolist() + [' Average direction (°deg-split-0-m1gp', ' Average direction (°deg-split-1-m1gp', ' Average direction (°deg-split-2-m1gp'] + weather.columns[5:-3].tolist()]\n"
      ],
      "metadata": {
        "id": "9uh73nqOYmT9"
      },
      "execution_count": 50,
      "outputs": []
    },
    {
      "cell_type": "code",
      "source": [
        "# Deleted columns  Average dewpoint (°F\n",
        "weather.drop([' Average dewpoint (°F'], axis=1, inplace=True)\n",
        "\n",
        "# Deleted columns  Average dewpoint (°F-split-0-4oq3\n",
        "weather.drop([' Average dewpoint (°F-split-0-4oq3'], axis=1, inplace=True)"
      ],
      "metadata": {
        "id": "qR0k94t1acy3"
      },
      "execution_count": 51,
      "outputs": []
    },
    {
      "cell_type": "code",
      "source": [
        "# Renamed columns avg_dewpoint_farenh\n",
        "weather.rename(columns={' Average dewpoint (°F-split-1-4oq3': 'avg_dewpoint_farenh'}, inplace=True)"
      ],
      "metadata": {
        "id": "lm3UuiTSac7V"
      },
      "execution_count": 52,
      "outputs": []
    },
    {
      "cell_type": "code",
      "source": [
        "# Renamed columns avg_dewpoint_farenh\n",
        "weather.rename(columns={' Average dewpoint (°F-split-1-4oq3': 'avg_dewpoint_farenh'}, inplace=True)\n",
        "\n",
        "# Changed avg_dewpoint_farenh to dtype float\n",
        "weather['avg_dewpoint_farenh'] = weather['avg_dewpoint_farenh'].astype(float)"
      ],
      "metadata": {
        "id": "FOhHKLBlac_P"
      },
      "execution_count": 53,
      "outputs": []
    },
    {
      "cell_type": "code",
      "source": [
        "# Deleted columns  Average dewpoint (°F-split-2-4oq3\n",
        "weather.drop([' Average dewpoint (°F-split-2-4oq3'], axis=1, inplace=True)\n",
        "\n",
        "# Deleted columns  Average barometer (in\n",
        "weather.drop([' Average barometer (in'], axis=1, inplace=True)\n",
        "\n",
        "# Deleted columns  Average barometer (in-split-0-vbfv\n",
        "weather.drop([' Average barometer (in-split-0-vbfv'], axis=1, inplace=True)"
      ],
      "metadata": {
        "id": "uNNne2uWatxT"
      },
      "execution_count": 54,
      "outputs": []
    },
    {
      "cell_type": "code",
      "source": [
        "# Changed  Average barometer (in-split-1-vbfv to dtype float\n",
        "weather[' Average barometer (in-split-1-vbfv'] = weather[' Average barometer (in-split-1-vbfv'].astype(float)"
      ],
      "metadata": {
        "id": "KFpRokQ_at2T"
      },
      "execution_count": 55,
      "outputs": []
    },
    {
      "cell_type": "code",
      "source": [
        "# Renamed columns avg_barometer\n",
        "weather.rename(columns={' Average barometer (in-split-1-vbfv': 'avg_barometer'}, inplace=True)\n",
        "\n",
        "# Deleted columns  Average barometer (in-split-2-vbfv\n",
        "weather.drop([' Average barometer (in-split-2-vbfv'], axis=1, inplace=True)\n",
        "\n",
        "# Deleted columns  Average windspeed (mph\n",
        "weather.drop([' Average windspeed (mph'], axis=1, inplace=True)\n",
        "\n",
        "# Deleted columns  Average windspeed (mph-split-0-usb6\n",
        "weather.drop([' Average windspeed (mph-split-0-usb6'], axis=1, inplace=True)"
      ],
      "metadata": {
        "id": "POWPnbjJat6f"
      },
      "execution_count": 56,
      "outputs": []
    },
    {
      "cell_type": "code",
      "source": [
        "# Changed  Average windspeed (mph-split-1-usb6 to dtype float\n",
        "weather[' Average windspeed (mph-split-1-usb6'] = weather[' Average windspeed (mph-split-1-usb6'].astype(float)\n",
        "\n",
        "# Renamed columns avg_windspeed_mph\n",
        "weather.rename(columns={' Average windspeed (mph-split-1-usb6': 'avg_windspeed_mph'}, inplace=True)\n",
        "\n",
        "# Deleted columns  Average windspeed (mph-split-2-usb6\n",
        "weather.drop([' Average windspeed (mph-split-2-usb6'], axis=1, inplace=True)\n",
        "\n",
        "# Deleted columns  Average gustspeed (mph\n",
        "weather.drop([' Average gustspeed (mph'], axis=1, inplace=True)\n",
        "\n",
        "# Deleted columns  Average gustspeed (mph-split-0-gzlq\n",
        "weather.drop([' Average gustspeed (mph-split-0-gzlq'], axis=1, inplace=True)\n",
        "\n",
        "# Changed  Average gustspeed (mph-split-1-gzlq to dtype float\n",
        "weather[' Average gustspeed (mph-split-1-gzlq'] = weather[' Average gustspeed (mph-split-1-gzlq'].astype(float)\n",
        "\n",
        "# Deleted columns  Average gustspeed (mph-split-2-gzlq\n",
        "weather.drop([' Average gustspeed (mph-split-2-gzlq'], axis=1, inplace=True)\n",
        "\n",
        "# Deleted columns  Average direction (°deg\n",
        "weather.drop([' Average direction (°deg'], axis=1, inplace=True)\n",
        "\n",
        "# Deleted columns  Average direction (°deg-split-0-m1gp\n",
        "weather.drop([' Average direction (°deg-split-0-m1gp'], axis=1, inplace=True)\n"
      ],
      "metadata": {
        "id": "Z-7KlyZQat_d"
      },
      "execution_count": 57,
      "outputs": []
    },
    {
      "cell_type": "code",
      "source": [
        "# Changed  Average direction (°deg-split-1-m1gp to dtype float\n",
        "weather[' Average direction (°deg-split-1-m1gp'] = weather[' Average direction (°deg-split-1-m1gp'].astype(float)\n",
        "\n",
        "# Renamed columns avg_direction_deg\n",
        "weather.rename(columns={' Average direction (°deg-split-1-m1gp': 'avg_direction_deg'}, inplace=True)\n",
        "\n",
        "# Renamed columns avg_gustspeed_mph\n",
        "weather.rename(columns={' Average gustspeed (mph-split-1-gzlq': 'avg_gustspeed_mph'}, inplace=True)\n",
        "\n",
        "# Deleted columns  Average direction (°deg-split-2-m1gp\n",
        "weather.drop([' Average direction (°deg-split-2-m1gp'], axis=1, inplace=True)\n"
      ],
      "metadata": {
        "id": "jdM93OgdauBT"
      },
      "execution_count": 59,
      "outputs": []
    },
    {
      "cell_type": "code",
      "source": [
        "# Split  Rainfall for month (in on \"'\"\n",
        "weather[[' Rainfall for month (in-split-0-xqa9', ' Rainfall for month (in-split-1-xqa9', ' Rainfall for month (in-split-2-xqa9']] = weather[' Rainfall for month (in'].str.split(\"'\", n=-1, expand=True)\n",
        "weather = weather[weather.columns[:1].tolist() + [' Rainfall for month (in-split-0-xqa9', ' Rainfall for month (in-split-1-xqa9', ' Rainfall for month (in-split-2-xqa9'] + weather.columns[1:-3].tolist()]\n",
        "\n",
        "# Split Rainfall for year (in on \"'\"\n",
        "weather[['Rainfall for year (in-split-0-hfdg', 'Rainfall for year (in-split-1-hfdg', 'Rainfall for year (in-split-2-hfdg']] = weather['Rainfall for year (in'].str.split(\"'\", n=-1, expand=True)\n",
        "weather = weather[weather.columns[:2].tolist() + ['Rainfall for year (in-split-0-hfdg', 'Rainfall for year (in-split-1-hfdg', 'Rainfall for year (in-split-2-hfdg'] + weather.columns[2:-3].tolist()]\n",
        "\n",
        "# Split  Maximum rain per minute on \"'\"\n",
        "weather[[' Maximum rain per minute-split-0-kxx5', ' Maximum rain per minute-split-1-kxx5', ' Maximum rain per minute-split-2-kxx5']] = weather[' Maximum rain per minute'].str.split(\"'\", n=-1, expand=True)\n",
        "weather = weather[weather.columns[:3].tolist() + [' Maximum rain per minute-split-0-kxx5', ' Maximum rain per minute-split-1-kxx5', ' Maximum rain per minute-split-2-kxx5'] + weather.columns[3:-3].tolist()]\n",
        "\n",
        "# Split  Maximum temperature (°F on \"'\"\n",
        "weather[[' Maximum temperature (°F-split-0-4q48', ' Maximum temperature (°F-split-1-4q48', ' Maximum temperature (°F-split-2-4q48']] = weather[' Maximum temperature (°F'].str.split(\"'\", n=-1, expand=True)\n",
        "weather = weather[weather.columns[:4].tolist() + [' Maximum temperature (°F-split-0-4q48', ' Maximum temperature (°F-split-1-4q48', ' Maximum temperature (°F-split-2-4q48'] + weather.columns[4:-3].tolist()]\n",
        "\n",
        "# Split  Minimum temperature (°F on \"'\"\n",
        "weather[[' Minimum temperature (°F-split-0-h0wq', ' Minimum temperature (°F-split-1-h0wq', ' Minimum temperature (°F-split-2-h0wq']] = weather[' Minimum temperature (°F'].str.split(\"'\", n=-1, expand=True)\n",
        "weather = weather[weather.columns[:5].tolist() + [' Minimum temperature (°F-split-0-h0wq', ' Minimum temperature (°F-split-1-h0wq', ' Minimum temperature (°F-split-2-h0wq'] + weather.columns[5:-3].tolist()]\n"
      ],
      "metadata": {
        "id": "sNLnL3zObQbk"
      },
      "execution_count": 60,
      "outputs": []
    },
    {
      "cell_type": "code",
      "source": [
        "# Deleted columns  Rainfall for month (in\n",
        "weather.drop([' Rainfall for month (in'], axis=1, inplace=True)\n",
        "\n",
        "# Deleted columns  Rainfall for month (in-split-0-xqa9\n",
        "weather.drop([' Rainfall for month (in-split-0-xqa9'], axis=1, inplace=True)\n",
        "\n",
        "# Renamed columns rainfall _for_month_inch\n",
        "weather.rename(columns={' Rainfall for month (in-split-1-xqa9': 'rainfall _for_month_inch'}, inplace=True)\n",
        "\n",
        "# Changed rainfall _for_month_inch to dtype float\n",
        "weather['rainfall _for_month_inch'] = weather['rainfall _for_month_inch'].astype(float)\n",
        "\n",
        "# Deleted columns  Rainfall for month (in-split-2-xqa9\n",
        "weather.drop([' Rainfall for month (in-split-2-xqa9'], axis=1, inplace=True)\n",
        "\n",
        "# Deleted columns Rainfall for year (in\n",
        "weather.drop(['Rainfall for year (in'], axis=1, inplace=True)\n",
        "\n",
        "# Deleted columns Rainfall for year (in-split-0-hfdg\n",
        "weather.drop(['Rainfall for year (in-split-0-hfdg'], axis=1, inplace=True)"
      ],
      "metadata": {
        "id": "ZpC_hsSqbQeU"
      },
      "execution_count": 61,
      "outputs": []
    },
    {
      "cell_type": "code",
      "source": [
        "# Changed Rainfall for year (in-split-1-hfdg to dtype float\n",
        "weather['Rainfall for year (in-split-1-hfdg'] = weather['Rainfall for year (in-split-1-hfdg'].astype(float)\n",
        "\n",
        "# Renamed columns rainfall_for_year_inch\n",
        "weather.rename(columns={'Rainfall for year (in-split-1-hfdg': 'rainfall_for_year_inch'}, inplace=True)\n",
        "\n",
        "# Deleted columns Rainfall for year (in-split-2-hfdg\n",
        "weather.drop(['Rainfall for year (in-split-2-hfdg'], axis=1, inplace=True)\n",
        "\n",
        "# Deleted columns  Maximum rain per minute\n",
        "weather.drop([' Maximum rain per minute'], axis=1, inplace=True)\n",
        "\n",
        "# Deleted columns  Maximum rain per minute-split-0-kxx5\n",
        "weather.drop([' Maximum rain per minute-split-0-kxx5'], axis=1, inplace=True)\n",
        "\n",
        "# Changed  Maximum rain per minute-split-1-kxx5 to dtype float\n",
        "weather[' Maximum rain per minute-split-1-kxx5'] = weather[' Maximum rain per minute-split-1-kxx5'].astype(float)\n"
      ],
      "metadata": {
        "id": "zuOYVzj1bQgK"
      },
      "execution_count": 62,
      "outputs": []
    },
    {
      "cell_type": "code",
      "source": [
        "weather.info()"
      ],
      "metadata": {
        "colab": {
          "base_uri": "https://localhost:8080/"
        },
        "id": "i8i5oOaWcHcq",
        "outputId": "b77f8fe5-1dc3-40bf-c013-2a656f7854b9"
      },
      "execution_count": 71,
      "outputs": [
        {
          "output_type": "stream",
          "name": "stdout",
          "text": [
            "<class 'pandas.core.frame.DataFrame'>\n",
            "RangeIndex: 3903 entries, 0 to 3902\n",
            "Data columns (total 26 columns):\n",
            " #   Column                                 Non-Null Count  Dtype  \n",
            "---  ------                                 --------------  -----  \n",
            " 0   date                                   3903 non-null   object \n",
            " 1    Minimum temperature (°F-split-0-h0wq  3903 non-null   object \n",
            " 2    Minimum temperature (°F-split-1-h0wq  3903 non-null   object \n",
            " 3    Minimum temperature (°F-split-2-h0wq  3903 non-null   object \n",
            " 4    Maximum temperature_farenh            3903 non-null   object \n",
            " 5   max_rain_per_minute                    3903 non-null   float64\n",
            " 6   rainfall_for_year_inch                 3903 non-null   float64\n",
            " 7   rainfall _for_month_inch               3903 non-null   float64\n",
            " 8   avg_direction_deg                      3903 non-null   float64\n",
            " 9   avg_gustspeed_mph                      3903 non-null   float64\n",
            " 10  avg_windspeed_mph                      3903 non-null   float64\n",
            " 11  avg_barometer                          3903 non-null   float64\n",
            " 12  avg_dewpoint_farenh                    3903 non-null   float64\n",
            " 13  avg_humidity_pct                       3903 non-null   float64\n",
            " 14  temperature                            3903 non-null   object \n",
            " 15   Minimum temperature (°F               3903 non-null   object \n",
            " 16   Maximum humidity (%                   3903 non-null   object \n",
            " 17   Minimum humidity (%                   3903 non-null   object \n",
            " 18   Maximum pressure                      3903 non-null   object \n",
            " 19   Minimum pressure                      3903 non-null   object \n",
            " 20   Maximum windspeed (mph                3903 non-null   object \n",
            " 21   Maximum gust speed (mph               3903 non-null   object \n",
            " 22   Maximum heat index (°F                3903 non-null   object \n",
            " 23  Date1                                  3903 non-null   object \n",
            " 24   Month                                 3903 non-null   object \n",
            " 25   diff_pressure                         3903 non-null   object \n",
            "dtypes: float64(9), object(17)\n",
            "memory usage: 792.9+ KB\n"
          ]
        }
      ]
    },
    {
      "cell_type": "code",
      "source": [
        "# Deleted columns  Maximum rain per minute-split-0-kxx5\n",
        "weather.drop([' Maximum rain per minute-split-0-kxx5'], axis=1, inplace=True)\n",
        "\n",
        "# Changed  Maximum rain per minute-split-1-kxx5 to dtype float\n",
        "weather[' Maximum rain per minute-split-1-kxx5'] = weather[' Maximum rain per minute-split-1-kxx5'].astype(float)\n"
      ],
      "metadata": {
        "id": "fgRnoo-Gb1zw"
      },
      "execution_count": 68,
      "outputs": []
    },
    {
      "cell_type": "code",
      "source": [
        "# Renamed columns max_rain_per_minute\n",
        "weather.rename(columns={' Maximum rain per minute-split-1-kxx5': 'max_rain_per_minute'}, inplace=True)\n",
        "\n",
        "# Deleted columns  Maximum rain per minute-split-2-kxx5\n",
        "weather.drop([' Maximum rain per minute-split-2-kxx5'], axis=1, inplace=True)\n",
        "\n",
        "# Deleted columns  Maximum temperature (°F\n",
        "weather.drop([' Maximum temperature (°F'], axis=1, inplace=True)\n",
        "\n",
        "# Deleted columns  Maximum temperature (°F-split-0-4q48\n",
        "weather.drop([' Maximum temperature (°F-split-0-4q48'], axis=1, inplace=True)\n",
        "\n",
        "# Renamed columns  Maximum temperature_farenh\n",
        "weather.rename(columns={' Maximum temperature (°F-split-1-4q48': ' Maximum temperature_farenh'}, inplace=True)\n",
        "\n",
        "# Deleted columns  Maximum temperature (°F-split-2-4q48\n",
        "weather.drop([' Maximum temperature (°F-split-2-4q48'], axis=1, inplace=True)"
      ],
      "metadata": {
        "id": "u2IR0nD0b16x"
      },
      "execution_count": 70,
      "outputs": []
    },
    {
      "cell_type": "code",
      "source": [
        "# Deleted columns  Minimum temperature (°F\n",
        "weather.drop([' Minimum temperature (°F'], axis=1, inplace=True)\n",
        "\n",
        "# Deleted columns  Minimum temperature (°F-split-0-h0wq\n",
        "weather.drop([' Minimum temperature (°F-split-0-h0wq'], axis=1, inplace=True)\n",
        "\n",
        "# Changed  Minimum temperature (°F-split-1-h0wq to dtype float\n",
        "weather[' Minimum temperature (°F-split-1-h0wq'] = weather[' Minimum temperature (°F-split-1-h0wq'].astype(float)\n",
        "\n",
        "# Renamed columns min_temperature_farenh\n",
        "weather.rename(columns={' Minimum temperature (°F-split-1-h0wq': 'min_temperature_farenh'}, inplace=True)\n",
        "\n",
        "# Renamed columns max_temperature_farenh\n",
        "weather.rename(columns={' Maximum temperature_farenh': 'max_temperature_farenh'}, inplace=True)\n",
        "\n",
        "# Changed max_temperature_farenh to dtype float\n",
        "weather['max_temperature_farenh'] = weather['max_temperature_farenh'].astype(float)\n",
        "\n",
        "# Deleted columns  Minimum temperature (°F-split-2-h0wq\n",
        "weather.drop([' Minimum temperature (°F-split-2-h0wq'], axis=1, inplace=True)"
      ],
      "metadata": {
        "id": "Ji_1T57-b2HU"
      },
      "execution_count": 72,
      "outputs": []
    },
    {
      "cell_type": "code",
      "source": [
        "# Split  Maximum humidity (% on \"'\"\n",
        "weather[[' Maximum humidity (%-split-0-iuxj', ' Maximum humidity (%-split-1-iuxj', ' Maximum humidity (%-split-2-iuxj']] = weather[' Maximum humidity (%'].str.split(\"'\", n=-1, expand=True)\n",
        "weather = weather[weather.columns[:1].tolist() + [' Maximum humidity (%-split-0-iuxj', ' Maximum humidity (%-split-1-iuxj', ' Maximum humidity (%-split-2-iuxj'] + weather.columns[1:-3].tolist()]\n",
        "\n",
        "# Split  Minimum humidity (% on \"'\"\n",
        "weather[[' Minimum humidity (%-split-0-q208', ' Minimum humidity (%-split-1-q208', ' Minimum humidity (%-split-2-q208']] = weather[' Minimum humidity (%'].str.split(\"'\", n=-1, expand=True)\n",
        "weather = weather[weather.columns[:2].tolist() + [' Minimum humidity (%-split-0-q208', ' Minimum humidity (%-split-1-q208', ' Minimum humidity (%-split-2-q208'] + weather.columns[2:-3].tolist()]\n",
        "\n",
        "# Split  Maximum pressure on \"'\"\n",
        "weather[[' Maximum pressure-split-0-hd7c', ' Maximum pressure-split-1-hd7c', ' Maximum pressure-split-2-hd7c']] = weather[' Maximum pressure'].str.split(\"'\", n=-1, expand=True)\n",
        "weather = weather[weather.columns[:3].tolist() + [' Maximum pressure-split-0-hd7c', ' Maximum pressure-split-1-hd7c', ' Maximum pressure-split-2-hd7c'] + weather.columns[3:-3].tolist()]\n",
        "\n",
        "# Split  diff_pressure on \"'\"\n",
        "weather[[' diff_pressure-split-0-he41', ' diff_pressure-split-1-he41', ' diff_pressure-split-2-he41']] = weather[' diff_pressure'].str.split(\"'\", n=-1, expand=True)\n",
        "weather = weather[weather.columns[:10].tolist() + [' diff_pressure-split-0-he41', ' diff_pressure-split-1-he41', ' diff_pressure-split-2-he41'] + weather.columns[10:-3].tolist()]\n",
        "\n",
        "# Split  Month on \"'\"\n",
        "weather[[' Month-split-0-oqho', ' Month-split-1-oqho', ' Month-split-2-oqho']] = weather[' Month'].str.split(\"'\", n=-1, expand=True)\n",
        "weather = weather[weather.columns[:9].tolist() + [' Month-split-0-oqho', ' Month-split-1-oqho', ' Month-split-2-oqho'] + weather.columns[9:-3].tolist()]\n"
      ],
      "metadata": {
        "id": "02wiz_ZOcyIS"
      },
      "execution_count": 73,
      "outputs": []
    },
    {
      "cell_type": "code",
      "source": [
        "# Deleted columns Date1\n",
        "weather.drop(['Date1'], axis=1, inplace=True)\n",
        "\n",
        "# Split  Maximum heat index (°F on \"'\"\n",
        "weather[[' Maximum heat index (°F-split-0-3396', ' Maximum heat index (°F-split-1-3396', ' Maximum heat index (°F-split-2-3396']] = weather[' Maximum heat index (°F'].str.split(\"'\", n=-1, expand=True)\n",
        "weather = weather[weather.columns[:7].tolist() + [' Maximum heat index (°F-split-0-3396', ' Maximum heat index (°F-split-1-3396', ' Maximum heat index (°F-split-2-3396'] + weather.columns[7:-3].tolist()]\n",
        "\n",
        "# Split  Maximum gust speed (mph on \"'\"\n",
        "weather[[' Maximum gust speed (mph-split-0-ienf', ' Maximum gust speed (mph-split-1-ienf', ' Maximum gust speed (mph-split-2-ienf']] = weather[' Maximum gust speed (mph'].str.split(\"'\", n=-1, expand=True)\n",
        "weather = weather[weather.columns[:6].tolist() + [' Maximum gust speed (mph-split-0-ienf', ' Maximum gust speed (mph-split-1-ienf', ' Maximum gust speed (mph-split-2-ienf'] + weather.columns[6:-3].tolist()]\n",
        "\n",
        "# Split  Maximum windspeed (mph on \"'\"\n",
        "weather[[' Maximum windspeed (mph-split-0-wtmh', ' Maximum windspeed (mph-split-1-wtmh', ' Maximum windspeed (mph-split-2-wtmh']] = weather[' Maximum windspeed (mph'].str.split(\"'\", n=-1, expand=True)\n",
        "weather = weather[weather.columns[:5].tolist() + [' Maximum windspeed (mph-split-0-wtmh', ' Maximum windspeed (mph-split-1-wtmh', ' Maximum windspeed (mph-split-2-wtmh'] + weather.columns[5:-3].tolist()]\n",
        "\n",
        "# Split  Minimum pressure on \"'\"\n",
        "weather[[' Minimum pressure-split-0-4ph0', ' Minimum pressure-split-1-4ph0', ' Minimum pressure-split-2-4ph0']] = weather[' Minimum pressure'].str.split(\"'\", n=-1, expand=True)\n",
        "weather = weather[weather.columns[:4].tolist() + [' Minimum pressure-split-0-4ph0', ' Minimum pressure-split-1-4ph0', ' Minimum pressure-split-2-4ph0'] + weather.columns[4:-3].tolist()]\n",
        "\n",
        "# Deleted columns  diff_pressure-split-2-he41\n",
        "weather.drop([' diff_pressure-split-2-he41'], axis=1, inplace=True)\n",
        "\n",
        "# Deleted columns  diff_pressure\n",
        "weather.drop([' diff_pressure'], axis=1, inplace=True)"
      ],
      "metadata": {
        "id": "A1LzT-k1cyLA"
      },
      "execution_count": 74,
      "outputs": []
    },
    {
      "cell_type": "code",
      "source": [
        "# Deleted columns  Month-split-2-oqho\n",
        "weather.drop([' Month-split-2-oqho'], axis=1, inplace=True)\n",
        "\n",
        "# Deleted columns  diff_pressure-split-0-he41\n",
        "weather.drop([' diff_pressure-split-0-he41'], axis=1, inplace=True)\n",
        "\n",
        "# Renamed columns  diff_pressure\n",
        "weather.rename(columns={' diff_pressure-split-1-he41': ' diff_pressure'}, inplace=True)\n",
        "\n",
        "# Changed  diff_pressure to dtype float\n",
        "weather[' diff_pressure'] = weather[' diff_pressure'].astype(float)\n",
        "\n",
        "# Deleted columns  Month\n",
        "weather.drop([' Month'], axis=1, inplace=True)\n",
        "\n",
        "# Deleted columns  Maximum heat index (°F-split-2-3396\n",
        "weather.drop([' Maximum heat index (°F-split-2-3396'], axis=1, inplace=True)\n",
        "\n",
        "# Deleted columns  Month-split-0-oqho\n",
        "weather.drop([' Month-split-0-oqho'], axis=1, inplace=True)\n",
        "\n",
        "# Renamed columns month\n",
        "weather.rename(columns={' Month-split-1-oqho': 'month'}, inplace=True)\n",
        "\n",
        "# Changed month to dtype int\n",
        "weather['month'] = weather['month'].astype(int)"
      ],
      "metadata": {
        "id": "RchA1nkScyOx"
      },
      "execution_count": 75,
      "outputs": []
    },
    {
      "cell_type": "code",
      "source": [
        "\n",
        "# Deleted columns  Maximum heat index (°F\n",
        "weather.drop([' Maximum heat index (°F'], axis=1, inplace=True)\n",
        "\n",
        "# Deleted columns  Maximum gust speed (mph-split-2-ienf\n",
        "weather.drop([' Maximum gust speed (mph-split-2-ienf'], axis=1, inplace=True)\n",
        "\n",
        "# Deleted columns  Maximum heat index (°F-split-0-3396\n",
        "weather.drop([' Maximum heat index (°F-split-0-3396'], axis=1, inplace=True)\n",
        "\n",
        "# Renamed columns max_heat_index_farenh\n",
        "weather.rename(columns={' Maximum heat index (°F-split-1-3396': 'max_heat_index_farenh'}, inplace=True)\n",
        "\n",
        "# Renamed columns max_gust_speed_mph\n",
        "weather.rename(columns={' Maximum gust speed (mph-split-1-ienf': 'max_gust_speed_mph'}, inplace=True)\n",
        "\n",
        "# Changed max_heat_index_farenh to dtype float\n",
        "weather['max_heat_index_farenh'] = weather['max_heat_index_farenh'].astype(float)\n",
        "\n",
        "# Changed max_gust_speed_mph to dtype float\n",
        "weather['max_gust_speed_mph'] = weather['max_gust_speed_mph'].astype(float)\n",
        "\n",
        "# Deleted columns  Maximum gust speed (mph-split-0-ienf\n",
        "weather.drop([' Maximum gust speed (mph-split-0-ienf'], axis=1, inplace=True)\n"
      ],
      "metadata": {
        "id": "3TmC-mkKddSn"
      },
      "execution_count": 76,
      "outputs": []
    },
    {
      "cell_type": "code",
      "source": [
        "# Deleted columns  Maximum gust speed (mph\n",
        "weather.drop([' Maximum gust speed (mph'], axis=1, inplace=True)\n",
        "\n",
        "# Deleted columns  Maximum windspeed (mph-split-2-wtmh\n",
        "weather.drop([' Maximum windspeed (mph-split-2-wtmh'], axis=1, inplace=True)\n",
        "\n",
        "# Renamed columns max_windspeed_mph\n",
        "weather.rename(columns={' Maximum windspeed (mph-split-1-wtmh': 'max_windspeed_mph'}, inplace=True)\n",
        "\n",
        "# Changed max_windspeed_mph to dtype float\n",
        "weather['max_windspeed_mph'] = weather['max_windspeed_mph'].astype(float)\n",
        "\n",
        "# Deleted columns  Maximum windspeed (mph-split-0-wtmh\n",
        "weather.drop([' Maximum windspeed (mph-split-0-wtmh'], axis=1, inplace=True)\n",
        "\n",
        "# Deleted columns  Maximum windspeed (mph\n",
        "weather.drop([' Maximum windspeed (mph'], axis=1, inplace=True)\n",
        "\n",
        "# Deleted columns  Minimum pressure-split-2-4ph0\n",
        "weather.drop([' Minimum pressure-split-2-4ph0'], axis=1, inplace=True)\n",
        "\n",
        "# Changed  Minimum pressure-split-1-4ph0 to dtype float\n",
        "weather[' Minimum pressure-split-1-4ph0'] = weather[' Minimum pressure-split-1-4ph0'].astype(float)\n",
        "\n",
        "# Renamed columns min_pressure\n",
        "weather.rename(columns={' Minimum pressure-split-1-4ph0': 'min_pressure'}, inplace=True)"
      ],
      "metadata": {
        "id": "_Y-XApXcddWa"
      },
      "execution_count": 77,
      "outputs": []
    },
    {
      "cell_type": "code",
      "source": [
        "# Deleted columns  Minimum pressure-split-0-4ph0\n",
        "weather.drop([' Minimum pressure-split-0-4ph0'], axis=1, inplace=True)\n",
        "\n",
        "# Deleted columns  Minimum pressure\n",
        "weather.drop([' Minimum pressure'], axis=1, inplace=True)\n",
        "\n",
        "# Deleted columns  Maximum pressure-split-2-hd7c\n",
        "weather.drop([' Maximum pressure-split-2-hd7c'], axis=1, inplace=True)\n",
        "\n",
        "# Changed  Maximum pressure-split-1-hd7c to dtype float\n",
        "weather[' Maximum pressure-split-1-hd7c'] = weather[' Maximum pressure-split-1-hd7c'].astype(float)\n",
        "\n",
        "# Renamed columns max_pressure\n",
        "weather.rename(columns={' Maximum pressure-split-1-hd7c': 'max_pressure'}, inplace=True)\n",
        "\n",
        "# Deleted columns  Maximum pressure-split-0-hd7c\n",
        "weather.drop([' Maximum pressure-split-0-hd7c'], axis=1, inplace=True)\n",
        "\n",
        "# Deleted columns  Minimum humidity (%-split-2-q208\n",
        "weather.drop([' Minimum humidity (%-split-2-q208'], axis=1, inplace=True)\n",
        "\n",
        "# Deleted columns  Minimum humidity (%-split-0-q208\n",
        "weather.drop([' Minimum humidity (%-split-0-q208'], axis=1, inplace=True)"
      ],
      "metadata": {
        "id": "cPJxYKrbddb5"
      },
      "execution_count": 78,
      "outputs": []
    },
    {
      "cell_type": "code",
      "source": [
        "\n",
        "\n",
        "# Changed  Minimum humidity (%-split-1-q208 to dtype float\n",
        "weather[' Minimum humidity (%-split-1-q208'] = weather[' Minimum humidity (%-split-1-q208'].astype(float)\n",
        "\n",
        "# Renamed columns min_humidity_pct\n",
        "weather.rename(columns={' Minimum humidity (%-split-1-q208': 'min_humidity_pct'}, inplace=True)\n",
        "\n",
        "# Deleted columns  Minimum humidity (%\n",
        "weather.drop([' Minimum humidity (%'], axis=1, inplace=True)\n",
        "\n",
        "# Deleted columns  Maximum humidity (%-split-2-iuxj\n",
        "weather.drop([' Maximum humidity (%-split-2-iuxj'], axis=1, inplace=True)\n",
        "\n",
        "# Renamed columns max_humidity_pct\n",
        "weather.rename(columns={' Maximum humidity (%-split-1-iuxj': 'max_humidity_pct'}, inplace=True)\n",
        "\n",
        "# Changed max_humidity_pct to dtype float\n",
        "weather['max_humidity_pct'] = weather['max_humidity_pct'].astype(float)\n",
        "\n",
        "# Deleted columns  Maximum humidity (%-split-0-iuxj\n",
        "weather.drop([' Maximum humidity (%-split-0-iuxj'], axis=1, inplace=True)\n",
        "\n",
        "# Deleted columns  Maximum humidity (%\n",
        "weather.drop([' Maximum humidity (%'], axis=1, inplace=True)\n",
        "\n",
        "# Renamed columns date_base\n",
        "weather.rename(columns={'date': 'date_base'}, inplace=True)\n"
      ],
      "metadata": {
        "id": "-rzXesfPddje"
      },
      "execution_count": 81,
      "outputs": []
    },
    {
      "cell_type": "code",
      "source": [
        "weather.info()"
      ],
      "metadata": {
        "colab": {
          "base_uri": "https://localhost:8080/"
        },
        "id": "7WdCoEA3ddwN",
        "outputId": "18535b67-9836-4828-d953-de30739bd4a4"
      },
      "execution_count": 82,
      "outputs": [
        {
          "output_type": "stream",
          "name": "stdout",
          "text": [
            "<class 'pandas.core.frame.DataFrame'>\n",
            "RangeIndex: 3903 entries, 0 to 3902\n",
            "Data columns (total 22 columns):\n",
            " #   Column                    Non-Null Count  Dtype  \n",
            "---  ------                    --------------  -----  \n",
            " 0   date_base                 3903 non-null   object \n",
            " 1   min_pressure              3903 non-null   float64\n",
            " 2   max_pressure              3903 non-null   float64\n",
            " 3   max_windspeed_mph         3903 non-null   float64\n",
            " 4   max_gust_speed_mph        3903 non-null   float64\n",
            " 5   min_humidity_pct          3903 non-null   float64\n",
            " 6   max_heat_index_farenh     3903 non-null   float64\n",
            " 7   max_humidity_pct          3903 non-null   float64\n",
            " 8   month                     3903 non-null   int64  \n",
            " 9    diff_pressure            3903 non-null   float64\n",
            " 10  min_temperature_farenh    3903 non-null   float64\n",
            " 11  max_temperature_farenh    3903 non-null   float64\n",
            " 12  max_rain_per_minute       3903 non-null   float64\n",
            " 13  rainfall_for_year_inch    3903 non-null   float64\n",
            " 14  rainfall _for_month_inch  3903 non-null   float64\n",
            " 15  avg_direction_deg         3903 non-null   float64\n",
            " 16  avg_gustspeed_mph         3903 non-null   float64\n",
            " 17  avg_windspeed_mph         3903 non-null   float64\n",
            " 18  avg_barometer             3903 non-null   float64\n",
            " 19  avg_dewpoint_farenh       3903 non-null   float64\n",
            " 20  avg_humidity_pct          3903 non-null   float64\n",
            " 21  temperature               3903 non-null   object \n",
            "dtypes: float64(19), int64(1), object(2)\n",
            "memory usage: 671.0+ KB\n"
          ]
        }
      ]
    },
    {
      "cell_type": "code",
      "source": [
        "# Reordered column month\n",
        "weather_columns = [col for col in weather.columns if col != 'month']\n",
        "weather_columns.insert(1, 'month')\n",
        "weather = weather[weather_columns]"
      ],
      "metadata": {
        "id": "va4CgBBadd0Z"
      },
      "execution_count": 83,
      "outputs": []
    },
    {
      "cell_type": "code",
      "source": [
        "\n",
        "# Sorted month in ascending order\n",
        "weather = weather.sort_values(by='month', ascending=True, na_position='first')\n",
        "\n",
        "# Renamed columns diff_pressure\n",
        "weather.rename(columns={' diff_pressure': 'diff_pressure'}, inplace=True)\n",
        "\n",
        "# Changed temperature to dtype float\n",
        "weather['temperature'] = weather['temperature'].astype(float)\n",
        "\n",
        "# Renamed weather to weather_corrected\n",
        "weather_corrected = weather\n",
        "\n",
        "# Formatted dataframes. View these styling objects to see the formatted dataframe\n",
        "weather_corrected_styler = weather_corrected.head(1500).style\\\n",
        "    .format(\"{:.4f}\", subset=['diff_pressure', 'min_pressure']).format(\"{:.3f}\", subset=['max_pressure'])\n"
      ],
      "metadata": {
        "id": "egzNX2efYCRx"
      },
      "execution_count": 84,
      "outputs": []
    },
    {
      "cell_type": "code",
      "source": [
        "weather_corrected.info()"
      ],
      "metadata": {
        "colab": {
          "base_uri": "https://localhost:8080/"
        },
        "id": "BA7vq-yFYCUh",
        "outputId": "d93fbbbd-62e2-4a33-8b2b-66a1d848e349"
      },
      "execution_count": 85,
      "outputs": [
        {
          "output_type": "stream",
          "name": "stdout",
          "text": [
            "<class 'pandas.core.frame.DataFrame'>\n",
            "Int64Index: 3903 entries, 0 to 1951\n",
            "Data columns (total 22 columns):\n",
            " #   Column                    Non-Null Count  Dtype  \n",
            "---  ------                    --------------  -----  \n",
            " 0   date_base                 3903 non-null   object \n",
            " 1   month                     3903 non-null   int64  \n",
            " 2   min_pressure              3903 non-null   float64\n",
            " 3   max_pressure              3903 non-null   float64\n",
            " 4   max_windspeed_mph         3903 non-null   float64\n",
            " 5   max_gust_speed_mph        3903 non-null   float64\n",
            " 6   min_humidity_pct          3903 non-null   float64\n",
            " 7   max_heat_index_farenh     3903 non-null   float64\n",
            " 8   max_humidity_pct          3903 non-null   float64\n",
            " 9   diff_pressure             3903 non-null   float64\n",
            " 10  min_temperature_farenh    3903 non-null   float64\n",
            " 11  max_temperature_farenh    3903 non-null   float64\n",
            " 12  max_rain_per_minute       3903 non-null   float64\n",
            " 13  rainfall_for_year_inch    3903 non-null   float64\n",
            " 14  rainfall _for_month_inch  3903 non-null   float64\n",
            " 15  avg_direction_deg         3903 non-null   float64\n",
            " 16  avg_gustspeed_mph         3903 non-null   float64\n",
            " 17  avg_windspeed_mph         3903 non-null   float64\n",
            " 18  avg_barometer             3903 non-null   float64\n",
            " 19  avg_dewpoint_farenh       3903 non-null   float64\n",
            " 20  avg_humidity_pct          3903 non-null   float64\n",
            " 21  temperature               3903 non-null   float64\n",
            "dtypes: float64(20), int64(1), object(1)\n",
            "memory usage: 701.3+ KB\n"
          ]
        }
      ]
    },
    {
      "cell_type": "code",
      "source": [
        "weather_corrected_1 = weather_corrected\n",
        "for col in weather_corrected_1.columns:\n",
        "    print(col)"
      ],
      "metadata": {
        "colab": {
          "base_uri": "https://localhost:8080/"
        },
        "id": "bx2CnM5SYCWW",
        "outputId": "9ed37599-c5a9-4065-bd3d-a1c743713afd"
      },
      "execution_count": 87,
      "outputs": [
        {
          "output_type": "stream",
          "name": "stdout",
          "text": [
            "date_base\n",
            "month\n",
            "min_pressure\n",
            "max_pressure\n",
            "max_windspeed_mph\n",
            "max_gust_speed_mph\n",
            "min_humidity_pct\n",
            "max_heat_index_farenh\n",
            "max_humidity_pct\n",
            "diff_pressure\n",
            "min_temperature_farenh\n",
            "max_temperature_farenh\n",
            "max_rain_per_minute\n",
            "rainfall_for_year_inch\n",
            "rainfall _for_month_inch\n",
            "avg_direction_deg\n",
            "avg_gustspeed_mph\n",
            "avg_windspeed_mph\n",
            "avg_barometer\n",
            "avg_dewpoint_farenh\n",
            "avg_humidity_pct\n",
            "temperature\n"
          ]
        }
      ]
    },
    {
      "cell_type": "code",
      "source": [],
      "metadata": {
        "id": "BOC5bk_4emK0"
      },
      "execution_count": null,
      "outputs": []
    },
    {
      "cell_type": "code",
      "source": [
        "# sample dataframe with 10 years of day-to-day date-time data with the same year\n",
        "weather_corrected_year = pd.DataFrame({'date': pd.date_range(start='2022-01-01', end='2033-07-31', freq='D')})"
      ],
      "metadata": {
        "id": "C46raHoEemNb"
      },
      "execution_count": 88,
      "outputs": []
    },
    {
      "cell_type": "code",
      "source": [
        "# define the function to change the year to a progressive year format\n",
        "def update_year(date_time):\n",
        "    year = date_time.year + date_time.dayofyear // 365\n",
        "    return date_time.replace(year=year)\n"
      ],
      "metadata": {
        "id": "TX1285n4emYc"
      },
      "execution_count": 89,
      "outputs": []
    },
    {
      "cell_type": "code",
      "source": [
        "# apply the function to the date_time column\n",
        "weather_corrected_year['date'] = weather_corrected_year['date'].apply(update_year)\n",
        "\n",
        "# check the updated dataframe\n",
        "print(weather_corrected_year.head())"
      ],
      "metadata": {
        "colab": {
          "base_uri": "https://localhost:8080/"
        },
        "id": "noxXT1cdemff",
        "outputId": "a6db089f-3e32-4af7-aef3-9e5e920bbe89"
      },
      "execution_count": 90,
      "outputs": [
        {
          "output_type": "stream",
          "name": "stdout",
          "text": [
            "        date\n",
            "0 2022-01-01\n",
            "1 2022-01-02\n",
            "2 2022-01-03\n",
            "3 2022-01-04\n",
            "4 2022-01-05\n"
          ]
        }
      ]
    },
    {
      "cell_type": "code",
      "source": [],
      "metadata": {
        "id": "b-k6iy9Hemjm"
      },
      "execution_count": null,
      "outputs": []
    },
    {
      "cell_type": "code",
      "source": [],
      "metadata": {
        "id": "rjAFCnT-g8j5"
      },
      "execution_count": null,
      "outputs": []
    },
    {
      "cell_type": "code",
      "source": [],
      "metadata": {
        "id": "mYf6WKygg8p0"
      },
      "execution_count": null,
      "outputs": []
    },
    {
      "cell_type": "code",
      "source": [],
      "metadata": {
        "id": "ez5ejpBwg8rX"
      },
      "execution_count": null,
      "outputs": []
    },
    {
      "cell_type": "code",
      "source": [],
      "metadata": {
        "colab": {
          "base_uri": "https://localhost:8080/",
          "height": 647
        },
        "id": "p2Kjlcbwg8x0",
        "outputId": "54bd52f0-2118-4ba1-fb5e-7894b43dd205"
      },
      "execution_count": 94,
      "outputs": [
        {
          "output_type": "execute_result",
          "data": {
            "text/plain": [
              "   Unnamed: 0        date  month  temperature  avg_humidity_pct  \\\n",
              "0        3651  2032-12-31     12         29.7              27.0   \n",
              "1        3902  2032-09-07     12         10.3              52.0   \n",
              "2        3901  2032-09-06     12          9.5              67.0   \n",
              "3        3900  2032-09-05     12         33.8              31.0   \n",
              "4        3899  2032-09-04     12         28.1              57.0   \n",
              "5        3898  2032-09-03     12          8.5              77.0   \n",
              "6        3897  2032-09-02     12         19.1              61.0   \n",
              "7        3896  2032-09-01     12         18.2              59.0   \n",
              "8        3895  2032-08-31     12         15.4              42.0   \n",
              "9        3894  2032-08-30     12         17.1              36.0   \n",
              "\n",
              "   avg_dewpoint_farenh  avg_barometer  avg_windspeed_mph  avg_gustspeed_mph  \\\n",
              "0                 -0.4           30.3               13.1               19.2   \n",
              "1                 -5.0           30.4                9.7               13.9   \n",
              "2                  0.5           30.0                2.0                3.7   \n",
              "3                  5.2           29.9               14.9               21.6   \n",
              "4                 13.4           29.8                7.1               10.4   \n",
              "5                  2.6           30.3                2.2                3.2   \n",
              "6                  6.7           30.0                6.3                9.2   \n",
              "7                  5.2           29.8                4.3                6.7   \n",
              "8                 -4.5           30.2                9.6               13.8   \n",
              "9                 -6.4           30.3                2.8                4.4   \n",
              "\n",
              "   avg_direction_deg  ...  max_temperature_farenh  min_temperature_farenh  \\\n",
              "0              233.0  ...                    36.1                    19.2   \n",
              "1              235.0  ...                    20.5                   -11.0   \n",
              "2              283.0  ...                    22.9                    -6.3   \n",
              "3              250.0  ...                    38.5                    30.3   \n",
              "4              243.0  ...                    34.9                    13.1   \n",
              "5               36.0  ...                    21.1                    -1.4   \n",
              "6              252.0  ...                    36.8                    -3.3   \n",
              "7              294.0  ...                    28.8                     1.5   \n",
              "8              247.0  ...                    23.2                     0.7   \n",
              "9              295.0  ...                    36.8                    -0.2   \n",
              "\n",
              "   max_humidity_pct  min_humidity_pct  max_pressure  min_pressure  \\\n",
              "0              39.0              21.0        30.449        30.127   \n",
              "1              80.0              32.0        30.635        30.172   \n",
              "2              74.0              44.0        30.520        29.525   \n",
              "3              55.0              10.0        29.975        29.745   \n",
              "4              86.0              34.0        29.937        29.639   \n",
              "5              82.0              66.0        30.554        29.939   \n",
              "6              83.0              39.0        30.330        29.526   \n",
              "7              83.0              30.0        30.095        29.513   \n",
              "8              80.0              27.0        30.289        30.028   \n",
              "9              59.0              19.0        30.511        29.938   \n",
              "\n",
              "   max_windspeed_mph  max_gust_speed_mph  max_heat_index_farenh  diff_pressure  \n",
              "0               27.6                41.4                   36.1          0.322  \n",
              "1               23.0                33.4                   20.5          0.463  \n",
              "2               10.4                16.1                   22.9          0.995  \n",
              "3               28.8                38.0                   38.5          0.230  \n",
              "4               24.2                35.7                   34.9          0.298  \n",
              "5               10.4                11.5                   21.1          0.615  \n",
              "6               21.9                32.2                   36.8          0.804  \n",
              "7               18.4                25.3                   28.8          0.582  \n",
              "8               23.0                32.2                   23.2          0.261  \n",
              "9               18.4                26.5                   36.8          0.573  \n",
              "\n",
              "[10 rows x 23 columns]"
            ],
            "text/html": [
              "\n",
              "  <div id=\"df-02f6c212-0035-4471-bd9c-761364504601\">\n",
              "    <div class=\"colab-df-container\">\n",
              "      <div>\n",
              "<style scoped>\n",
              "    .dataframe tbody tr th:only-of-type {\n",
              "        vertical-align: middle;\n",
              "    }\n",
              "\n",
              "    .dataframe tbody tr th {\n",
              "        vertical-align: top;\n",
              "    }\n",
              "\n",
              "    .dataframe thead th {\n",
              "        text-align: right;\n",
              "    }\n",
              "</style>\n",
              "<table border=\"1\" class=\"dataframe\">\n",
              "  <thead>\n",
              "    <tr style=\"text-align: right;\">\n",
              "      <th></th>\n",
              "      <th>Unnamed: 0</th>\n",
              "      <th>date</th>\n",
              "      <th>month</th>\n",
              "      <th>temperature</th>\n",
              "      <th>avg_humidity_pct</th>\n",
              "      <th>avg_dewpoint_farenh</th>\n",
              "      <th>avg_barometer</th>\n",
              "      <th>avg_windspeed_mph</th>\n",
              "      <th>avg_gustspeed_mph</th>\n",
              "      <th>avg_direction_deg</th>\n",
              "      <th>...</th>\n",
              "      <th>max_temperature_farenh</th>\n",
              "      <th>min_temperature_farenh</th>\n",
              "      <th>max_humidity_pct</th>\n",
              "      <th>min_humidity_pct</th>\n",
              "      <th>max_pressure</th>\n",
              "      <th>min_pressure</th>\n",
              "      <th>max_windspeed_mph</th>\n",
              "      <th>max_gust_speed_mph</th>\n",
              "      <th>max_heat_index_farenh</th>\n",
              "      <th>diff_pressure</th>\n",
              "    </tr>\n",
              "  </thead>\n",
              "  <tbody>\n",
              "    <tr>\n",
              "      <th>0</th>\n",
              "      <td>3651</td>\n",
              "      <td>2032-12-31</td>\n",
              "      <td>12</td>\n",
              "      <td>29.7</td>\n",
              "      <td>27.0</td>\n",
              "      <td>-0.4</td>\n",
              "      <td>30.3</td>\n",
              "      <td>13.1</td>\n",
              "      <td>19.2</td>\n",
              "      <td>233.0</td>\n",
              "      <td>...</td>\n",
              "      <td>36.1</td>\n",
              "      <td>19.2</td>\n",
              "      <td>39.0</td>\n",
              "      <td>21.0</td>\n",
              "      <td>30.449</td>\n",
              "      <td>30.127</td>\n",
              "      <td>27.6</td>\n",
              "      <td>41.4</td>\n",
              "      <td>36.1</td>\n",
              "      <td>0.322</td>\n",
              "    </tr>\n",
              "    <tr>\n",
              "      <th>1</th>\n",
              "      <td>3902</td>\n",
              "      <td>2032-09-07</td>\n",
              "      <td>12</td>\n",
              "      <td>10.3</td>\n",
              "      <td>52.0</td>\n",
              "      <td>-5.0</td>\n",
              "      <td>30.4</td>\n",
              "      <td>9.7</td>\n",
              "      <td>13.9</td>\n",
              "      <td>235.0</td>\n",
              "      <td>...</td>\n",
              "      <td>20.5</td>\n",
              "      <td>-11.0</td>\n",
              "      <td>80.0</td>\n",
              "      <td>32.0</td>\n",
              "      <td>30.635</td>\n",
              "      <td>30.172</td>\n",
              "      <td>23.0</td>\n",
              "      <td>33.4</td>\n",
              "      <td>20.5</td>\n",
              "      <td>0.463</td>\n",
              "    </tr>\n",
              "    <tr>\n",
              "      <th>2</th>\n",
              "      <td>3901</td>\n",
              "      <td>2032-09-06</td>\n",
              "      <td>12</td>\n",
              "      <td>9.5</td>\n",
              "      <td>67.0</td>\n",
              "      <td>0.5</td>\n",
              "      <td>30.0</td>\n",
              "      <td>2.0</td>\n",
              "      <td>3.7</td>\n",
              "      <td>283.0</td>\n",
              "      <td>...</td>\n",
              "      <td>22.9</td>\n",
              "      <td>-6.3</td>\n",
              "      <td>74.0</td>\n",
              "      <td>44.0</td>\n",
              "      <td>30.520</td>\n",
              "      <td>29.525</td>\n",
              "      <td>10.4</td>\n",
              "      <td>16.1</td>\n",
              "      <td>22.9</td>\n",
              "      <td>0.995</td>\n",
              "    </tr>\n",
              "    <tr>\n",
              "      <th>3</th>\n",
              "      <td>3900</td>\n",
              "      <td>2032-09-05</td>\n",
              "      <td>12</td>\n",
              "      <td>33.8</td>\n",
              "      <td>31.0</td>\n",
              "      <td>5.2</td>\n",
              "      <td>29.9</td>\n",
              "      <td>14.9</td>\n",
              "      <td>21.6</td>\n",
              "      <td>250.0</td>\n",
              "      <td>...</td>\n",
              "      <td>38.5</td>\n",
              "      <td>30.3</td>\n",
              "      <td>55.0</td>\n",
              "      <td>10.0</td>\n",
              "      <td>29.975</td>\n",
              "      <td>29.745</td>\n",
              "      <td>28.8</td>\n",
              "      <td>38.0</td>\n",
              "      <td>38.5</td>\n",
              "      <td>0.230</td>\n",
              "    </tr>\n",
              "    <tr>\n",
              "      <th>4</th>\n",
              "      <td>3899</td>\n",
              "      <td>2032-09-04</td>\n",
              "      <td>12</td>\n",
              "      <td>28.1</td>\n",
              "      <td>57.0</td>\n",
              "      <td>13.4</td>\n",
              "      <td>29.8</td>\n",
              "      <td>7.1</td>\n",
              "      <td>10.4</td>\n",
              "      <td>243.0</td>\n",
              "      <td>...</td>\n",
              "      <td>34.9</td>\n",
              "      <td>13.1</td>\n",
              "      <td>86.0</td>\n",
              "      <td>34.0</td>\n",
              "      <td>29.937</td>\n",
              "      <td>29.639</td>\n",
              "      <td>24.2</td>\n",
              "      <td>35.7</td>\n",
              "      <td>34.9</td>\n",
              "      <td>0.298</td>\n",
              "    </tr>\n",
              "    <tr>\n",
              "      <th>5</th>\n",
              "      <td>3898</td>\n",
              "      <td>2032-09-03</td>\n",
              "      <td>12</td>\n",
              "      <td>8.5</td>\n",
              "      <td>77.0</td>\n",
              "      <td>2.6</td>\n",
              "      <td>30.3</td>\n",
              "      <td>2.2</td>\n",
              "      <td>3.2</td>\n",
              "      <td>36.0</td>\n",
              "      <td>...</td>\n",
              "      <td>21.1</td>\n",
              "      <td>-1.4</td>\n",
              "      <td>82.0</td>\n",
              "      <td>66.0</td>\n",
              "      <td>30.554</td>\n",
              "      <td>29.939</td>\n",
              "      <td>10.4</td>\n",
              "      <td>11.5</td>\n",
              "      <td>21.1</td>\n",
              "      <td>0.615</td>\n",
              "    </tr>\n",
              "    <tr>\n",
              "      <th>6</th>\n",
              "      <td>3897</td>\n",
              "      <td>2032-09-02</td>\n",
              "      <td>12</td>\n",
              "      <td>19.1</td>\n",
              "      <td>61.0</td>\n",
              "      <td>6.7</td>\n",
              "      <td>30.0</td>\n",
              "      <td>6.3</td>\n",
              "      <td>9.2</td>\n",
              "      <td>252.0</td>\n",
              "      <td>...</td>\n",
              "      <td>36.8</td>\n",
              "      <td>-3.3</td>\n",
              "      <td>83.0</td>\n",
              "      <td>39.0</td>\n",
              "      <td>30.330</td>\n",
              "      <td>29.526</td>\n",
              "      <td>21.9</td>\n",
              "      <td>32.2</td>\n",
              "      <td>36.8</td>\n",
              "      <td>0.804</td>\n",
              "    </tr>\n",
              "    <tr>\n",
              "      <th>7</th>\n",
              "      <td>3896</td>\n",
              "      <td>2032-09-01</td>\n",
              "      <td>12</td>\n",
              "      <td>18.2</td>\n",
              "      <td>59.0</td>\n",
              "      <td>5.2</td>\n",
              "      <td>29.8</td>\n",
              "      <td>4.3</td>\n",
              "      <td>6.7</td>\n",
              "      <td>294.0</td>\n",
              "      <td>...</td>\n",
              "      <td>28.8</td>\n",
              "      <td>1.5</td>\n",
              "      <td>83.0</td>\n",
              "      <td>30.0</td>\n",
              "      <td>30.095</td>\n",
              "      <td>29.513</td>\n",
              "      <td>18.4</td>\n",
              "      <td>25.3</td>\n",
              "      <td>28.8</td>\n",
              "      <td>0.582</td>\n",
              "    </tr>\n",
              "    <tr>\n",
              "      <th>8</th>\n",
              "      <td>3895</td>\n",
              "      <td>2032-08-31</td>\n",
              "      <td>12</td>\n",
              "      <td>15.4</td>\n",
              "      <td>42.0</td>\n",
              "      <td>-4.5</td>\n",
              "      <td>30.2</td>\n",
              "      <td>9.6</td>\n",
              "      <td>13.8</td>\n",
              "      <td>247.0</td>\n",
              "      <td>...</td>\n",
              "      <td>23.2</td>\n",
              "      <td>0.7</td>\n",
              "      <td>80.0</td>\n",
              "      <td>27.0</td>\n",
              "      <td>30.289</td>\n",
              "      <td>30.028</td>\n",
              "      <td>23.0</td>\n",
              "      <td>32.2</td>\n",
              "      <td>23.2</td>\n",
              "      <td>0.261</td>\n",
              "    </tr>\n",
              "    <tr>\n",
              "      <th>9</th>\n",
              "      <td>3894</td>\n",
              "      <td>2032-08-30</td>\n",
              "      <td>12</td>\n",
              "      <td>17.1</td>\n",
              "      <td>36.0</td>\n",
              "      <td>-6.4</td>\n",
              "      <td>30.3</td>\n",
              "      <td>2.8</td>\n",
              "      <td>4.4</td>\n",
              "      <td>295.0</td>\n",
              "      <td>...</td>\n",
              "      <td>36.8</td>\n",
              "      <td>-0.2</td>\n",
              "      <td>59.0</td>\n",
              "      <td>19.0</td>\n",
              "      <td>30.511</td>\n",
              "      <td>29.938</td>\n",
              "      <td>18.4</td>\n",
              "      <td>26.5</td>\n",
              "      <td>36.8</td>\n",
              "      <td>0.573</td>\n",
              "    </tr>\n",
              "  </tbody>\n",
              "</table>\n",
              "<p>10 rows × 23 columns</p>\n",
              "</div>\n",
              "      <button class=\"colab-df-convert\" onclick=\"convertToInteractive('df-02f6c212-0035-4471-bd9c-761364504601')\"\n",
              "              title=\"Convert this dataframe to an interactive table.\"\n",
              "              style=\"display:none;\">\n",
              "        \n",
              "  <svg xmlns=\"http://www.w3.org/2000/svg\" height=\"24px\"viewBox=\"0 0 24 24\"\n",
              "       width=\"24px\">\n",
              "    <path d=\"M0 0h24v24H0V0z\" fill=\"none\"/>\n",
              "    <path d=\"M18.56 5.44l.94 2.06.94-2.06 2.06-.94-2.06-.94-.94-2.06-.94 2.06-2.06.94zm-11 1L8.5 8.5l.94-2.06 2.06-.94-2.06-.94L8.5 2.5l-.94 2.06-2.06.94zm10 10l.94 2.06.94-2.06 2.06-.94-2.06-.94-.94-2.06-.94 2.06-2.06.94z\"/><path d=\"M17.41 7.96l-1.37-1.37c-.4-.4-.92-.59-1.43-.59-.52 0-1.04.2-1.43.59L10.3 9.45l-7.72 7.72c-.78.78-.78 2.05 0 2.83L4 21.41c.39.39.9.59 1.41.59.51 0 1.02-.2 1.41-.59l7.78-7.78 2.81-2.81c.8-.78.8-2.07 0-2.86zM5.41 20L4 18.59l7.72-7.72 1.47 1.35L5.41 20z\"/>\n",
              "  </svg>\n",
              "      </button>\n",
              "      \n",
              "  <style>\n",
              "    .colab-df-container {\n",
              "      display:flex;\n",
              "      flex-wrap:wrap;\n",
              "      gap: 12px;\n",
              "    }\n",
              "\n",
              "    .colab-df-convert {\n",
              "      background-color: #E8F0FE;\n",
              "      border: none;\n",
              "      border-radius: 50%;\n",
              "      cursor: pointer;\n",
              "      display: none;\n",
              "      fill: #1967D2;\n",
              "      height: 32px;\n",
              "      padding: 0 0 0 0;\n",
              "      width: 32px;\n",
              "    }\n",
              "\n",
              "    .colab-df-convert:hover {\n",
              "      background-color: #E2EBFA;\n",
              "      box-shadow: 0px 1px 2px rgba(60, 64, 67, 0.3), 0px 1px 3px 1px rgba(60, 64, 67, 0.15);\n",
              "      fill: #174EA6;\n",
              "    }\n",
              "\n",
              "    [theme=dark] .colab-df-convert {\n",
              "      background-color: #3B4455;\n",
              "      fill: #D2E3FC;\n",
              "    }\n",
              "\n",
              "    [theme=dark] .colab-df-convert:hover {\n",
              "      background-color: #434B5C;\n",
              "      box-shadow: 0px 1px 3px 1px rgba(0, 0, 0, 0.15);\n",
              "      filter: drop-shadow(0px 1px 2px rgba(0, 0, 0, 0.3));\n",
              "      fill: #FFFFFF;\n",
              "    }\n",
              "  </style>\n",
              "\n",
              "      <script>\n",
              "        const buttonEl =\n",
              "          document.querySelector('#df-02f6c212-0035-4471-bd9c-761364504601 button.colab-df-convert');\n",
              "        buttonEl.style.display =\n",
              "          google.colab.kernel.accessAllowed ? 'block' : 'none';\n",
              "\n",
              "        async function convertToInteractive(key) {\n",
              "          const element = document.querySelector('#df-02f6c212-0035-4471-bd9c-761364504601');\n",
              "          const dataTable =\n",
              "            await google.colab.kernel.invokeFunction('convertToInteractive',\n",
              "                                                     [key], {});\n",
              "          if (!dataTable) return;\n",
              "\n",
              "          const docLinkHtml = 'Like what you see? Visit the ' +\n",
              "            '<a target=\"_blank\" href=https://colab.research.google.com/notebooks/data_table.ipynb>data table notebook</a>'\n",
              "            + ' to learn more about interactive tables.';\n",
              "          element.innerHTML = '';\n",
              "          dataTable['output_type'] = 'display_data';\n",
              "          await google.colab.output.renderOutput(dataTable, element);\n",
              "          const docLink = document.createElement('div');\n",
              "          docLink.innerHTML = docLinkHtml;\n",
              "          element.appendChild(docLink);\n",
              "        }\n",
              "      </script>\n",
              "    </div>\n",
              "  </div>\n",
              "  "
            ]
          },
          "metadata": {},
          "execution_count": 94
        }
      ]
    },
    {
      "cell_type": "code",
      "source": [],
      "metadata": {
        "id": "o1ZP1gblg81f"
      },
      "execution_count": null,
      "outputs": []
    },
    {
      "cell_type": "code",
      "source": [],
      "metadata": {
        "id": "DxiAU5PfhcGC"
      },
      "execution_count": null,
      "outputs": []
    },
    {
      "cell_type": "code",
      "source": [],
      "metadata": {
        "id": "UolvaGLRhcDi"
      },
      "execution_count": null,
      "outputs": []
    },
    {
      "cell_type": "code",
      "source": [],
      "metadata": {
        "colab": {
          "base_uri": "https://localhost:8080/"
        },
        "id": "nBSOQurXhb-5",
        "outputId": "dba7689d-e7ba-4a40-94c7-727c834549a1"
      },
      "execution_count": 96,
      "outputs": [
        {
          "output_type": "stream",
          "name": "stdout",
          "text": [
            "<class 'pandas.core.frame.DataFrame'>\n",
            "RangeIndex: 3903 entries, 0 to 3902\n",
            "Data columns (total 23 columns):\n",
            " #   Column                    Non-Null Count  Dtype  \n",
            "---  ------                    --------------  -----  \n",
            " 0   Unnamed: 0                3903 non-null   int64  \n",
            " 1   date                      3903 non-null   object \n",
            " 2   month                     3903 non-null   int64  \n",
            " 3   temperature               3903 non-null   float64\n",
            " 4   avg_humidity_pct          3903 non-null   float64\n",
            " 5   avg_dewpoint_farenh       3903 non-null   float64\n",
            " 6   avg_barometer             3903 non-null   float64\n",
            " 7   avg_windspeed_mph         3903 non-null   float64\n",
            " 8   avg_gustspeed_mph         3903 non-null   float64\n",
            " 9   avg_direction_deg         3903 non-null   float64\n",
            " 10  rainfall _for_month_inch  3903 non-null   float64\n",
            " 11  rainfall_for_year_inch    3903 non-null   float64\n",
            " 12  max_rain_per_minute       3903 non-null   float64\n",
            " 13  max_temperature_farenh    3903 non-null   float64\n",
            " 14  min_temperature_farenh    3903 non-null   float64\n",
            " 15  max_humidity_pct          3903 non-null   float64\n",
            " 16  min_humidity_pct          3903 non-null   float64\n",
            " 17  max_pressure              3903 non-null   float64\n",
            " 18  min_pressure              3903 non-null   float64\n",
            " 19  max_windspeed_mph         3903 non-null   float64\n",
            " 20  max_gust_speed_mph        3903 non-null   float64\n",
            " 21  max_heat_index_farenh     3903 non-null   float64\n",
            " 22  diff_pressure             3903 non-null   float64\n",
            "dtypes: float64(20), int64(2), object(1)\n",
            "memory usage: 701.4+ KB\n"
          ]
        }
      ]
    },
    {
      "cell_type": "code",
      "source": [],
      "metadata": {
        "id": "EN5C_yJnhb8E"
      },
      "execution_count": null,
      "outputs": []
    },
    {
      "cell_type": "code",
      "source": [],
      "metadata": {
        "id": "KVShbI2nhb6B"
      },
      "execution_count": null,
      "outputs": []
    },
    {
      "cell_type": "code",
      "source": [],
      "metadata": {
        "id": "x1M0LQCShb0p"
      },
      "execution_count": null,
      "outputs": []
    },
    {
      "cell_type": "code",
      "source": [],
      "metadata": {
        "id": "rn1Y_kFZhbxm"
      },
      "execution_count": null,
      "outputs": []
    },
    {
      "cell_type": "code",
      "source": [],
      "metadata": {
        "id": "h0IqRTIZhbrI"
      },
      "execution_count": null,
      "outputs": []
    },
    {
      "cell_type": "code",
      "source": [],
      "metadata": {
        "id": "RcNL6Fp_hbld"
      },
      "execution_count": null,
      "outputs": []
    },
    {
      "cell_type": "code",
      "source": [],
      "metadata": {
        "id": "UPPj0YyPhbh6"
      },
      "execution_count": null,
      "outputs": []
    },
    {
      "cell_type": "code",
      "source": [],
      "metadata": {
        "id": "Hy3ZvAsKhbYF"
      },
      "execution_count": null,
      "outputs": []
    },
    {
      "cell_type": "code",
      "source": [],
      "metadata": {
        "id": "ne80a928hbRn"
      },
      "execution_count": null,
      "outputs": []
    },
    {
      "cell_type": "code",
      "source": [],
      "metadata": {
        "id": "dRSKGwKvhbOz"
      },
      "execution_count": null,
      "outputs": []
    }
  ]
}